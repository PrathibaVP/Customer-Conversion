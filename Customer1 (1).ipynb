{
 "cells": [
  {
   "cell_type": "code",
   "execution_count": 2,
   "id": "dd9f3ced",
   "metadata": {},
   "outputs": [],
   "source": [
    "import pandas as pd\n",
    "import numpy as np\n",
    "import matplotlib.pyplot as plt\n",
    "import seaborn as sns"
   ]
  },
  {
   "cell_type": "code",
   "execution_count": 3,
   "id": "58cbd053",
   "metadata": {},
   "outputs": [
    {
     "name": "stdout",
     "output_type": "stream",
     "text": [
      "(45211, 11)\n"
     ]
    },
    {
     "data": {
      "text/html": [
       "<div>\n",
       "<style scoped>\n",
       "    .dataframe tbody tr th:only-of-type {\n",
       "        vertical-align: middle;\n",
       "    }\n",
       "\n",
       "    .dataframe tbody tr th {\n",
       "        vertical-align: top;\n",
       "    }\n",
       "\n",
       "    .dataframe thead th {\n",
       "        text-align: right;\n",
       "    }\n",
       "</style>\n",
       "<table border=\"1\" class=\"dataframe\">\n",
       "  <thead>\n",
       "    <tr style=\"text-align: right;\">\n",
       "      <th></th>\n",
       "      <th>age</th>\n",
       "      <th>job</th>\n",
       "      <th>marital</th>\n",
       "      <th>education_qual</th>\n",
       "      <th>call_type</th>\n",
       "      <th>day</th>\n",
       "      <th>mon</th>\n",
       "      <th>dur</th>\n",
       "      <th>num_calls</th>\n",
       "      <th>prev_outcome</th>\n",
       "      <th>y</th>\n",
       "    </tr>\n",
       "  </thead>\n",
       "  <tbody>\n",
       "    <tr>\n",
       "      <th>0</th>\n",
       "      <td>58</td>\n",
       "      <td>management</td>\n",
       "      <td>married</td>\n",
       "      <td>tertiary</td>\n",
       "      <td>unknown</td>\n",
       "      <td>5</td>\n",
       "      <td>may</td>\n",
       "      <td>261</td>\n",
       "      <td>1</td>\n",
       "      <td>unknown</td>\n",
       "      <td>no</td>\n",
       "    </tr>\n",
       "    <tr>\n",
       "      <th>1</th>\n",
       "      <td>44</td>\n",
       "      <td>technician</td>\n",
       "      <td>single</td>\n",
       "      <td>secondary</td>\n",
       "      <td>unknown</td>\n",
       "      <td>5</td>\n",
       "      <td>may</td>\n",
       "      <td>151</td>\n",
       "      <td>1</td>\n",
       "      <td>unknown</td>\n",
       "      <td>no</td>\n",
       "    </tr>\n",
       "    <tr>\n",
       "      <th>2</th>\n",
       "      <td>33</td>\n",
       "      <td>entrepreneur</td>\n",
       "      <td>married</td>\n",
       "      <td>secondary</td>\n",
       "      <td>unknown</td>\n",
       "      <td>5</td>\n",
       "      <td>may</td>\n",
       "      <td>76</td>\n",
       "      <td>1</td>\n",
       "      <td>unknown</td>\n",
       "      <td>no</td>\n",
       "    </tr>\n",
       "    <tr>\n",
       "      <th>3</th>\n",
       "      <td>47</td>\n",
       "      <td>blue-collar</td>\n",
       "      <td>married</td>\n",
       "      <td>unknown</td>\n",
       "      <td>unknown</td>\n",
       "      <td>5</td>\n",
       "      <td>may</td>\n",
       "      <td>92</td>\n",
       "      <td>1</td>\n",
       "      <td>unknown</td>\n",
       "      <td>no</td>\n",
       "    </tr>\n",
       "    <tr>\n",
       "      <th>4</th>\n",
       "      <td>33</td>\n",
       "      <td>unknown</td>\n",
       "      <td>single</td>\n",
       "      <td>unknown</td>\n",
       "      <td>unknown</td>\n",
       "      <td>5</td>\n",
       "      <td>may</td>\n",
       "      <td>198</td>\n",
       "      <td>1</td>\n",
       "      <td>unknown</td>\n",
       "      <td>no</td>\n",
       "    </tr>\n",
       "    <tr>\n",
       "      <th>...</th>\n",
       "      <td>...</td>\n",
       "      <td>...</td>\n",
       "      <td>...</td>\n",
       "      <td>...</td>\n",
       "      <td>...</td>\n",
       "      <td>...</td>\n",
       "      <td>...</td>\n",
       "      <td>...</td>\n",
       "      <td>...</td>\n",
       "      <td>...</td>\n",
       "      <td>...</td>\n",
       "    </tr>\n",
       "    <tr>\n",
       "      <th>45206</th>\n",
       "      <td>51</td>\n",
       "      <td>technician</td>\n",
       "      <td>married</td>\n",
       "      <td>tertiary</td>\n",
       "      <td>cellular</td>\n",
       "      <td>17</td>\n",
       "      <td>nov</td>\n",
       "      <td>977</td>\n",
       "      <td>3</td>\n",
       "      <td>unknown</td>\n",
       "      <td>yes</td>\n",
       "    </tr>\n",
       "    <tr>\n",
       "      <th>45207</th>\n",
       "      <td>71</td>\n",
       "      <td>retired</td>\n",
       "      <td>divorced</td>\n",
       "      <td>primary</td>\n",
       "      <td>cellular</td>\n",
       "      <td>17</td>\n",
       "      <td>nov</td>\n",
       "      <td>456</td>\n",
       "      <td>2</td>\n",
       "      <td>unknown</td>\n",
       "      <td>yes</td>\n",
       "    </tr>\n",
       "    <tr>\n",
       "      <th>45208</th>\n",
       "      <td>72</td>\n",
       "      <td>retired</td>\n",
       "      <td>married</td>\n",
       "      <td>secondary</td>\n",
       "      <td>cellular</td>\n",
       "      <td>17</td>\n",
       "      <td>nov</td>\n",
       "      <td>1127</td>\n",
       "      <td>5</td>\n",
       "      <td>success</td>\n",
       "      <td>yes</td>\n",
       "    </tr>\n",
       "    <tr>\n",
       "      <th>45209</th>\n",
       "      <td>57</td>\n",
       "      <td>blue-collar</td>\n",
       "      <td>married</td>\n",
       "      <td>secondary</td>\n",
       "      <td>telephone</td>\n",
       "      <td>17</td>\n",
       "      <td>nov</td>\n",
       "      <td>508</td>\n",
       "      <td>4</td>\n",
       "      <td>unknown</td>\n",
       "      <td>no</td>\n",
       "    </tr>\n",
       "    <tr>\n",
       "      <th>45210</th>\n",
       "      <td>37</td>\n",
       "      <td>entrepreneur</td>\n",
       "      <td>married</td>\n",
       "      <td>secondary</td>\n",
       "      <td>cellular</td>\n",
       "      <td>17</td>\n",
       "      <td>nov</td>\n",
       "      <td>361</td>\n",
       "      <td>2</td>\n",
       "      <td>other</td>\n",
       "      <td>no</td>\n",
       "    </tr>\n",
       "  </tbody>\n",
       "</table>\n",
       "<p>45211 rows × 11 columns</p>\n",
       "</div>"
      ],
      "text/plain": [
       "       age           job   marital education_qual  call_type  day  mon   dur  \\\n",
       "0       58    management   married       tertiary    unknown    5  may   261   \n",
       "1       44    technician    single      secondary    unknown    5  may   151   \n",
       "2       33  entrepreneur   married      secondary    unknown    5  may    76   \n",
       "3       47   blue-collar   married        unknown    unknown    5  may    92   \n",
       "4       33       unknown    single        unknown    unknown    5  may   198   \n",
       "...    ...           ...       ...            ...        ...  ...  ...   ...   \n",
       "45206   51    technician   married       tertiary   cellular   17  nov   977   \n",
       "45207   71       retired  divorced        primary   cellular   17  nov   456   \n",
       "45208   72       retired   married      secondary   cellular   17  nov  1127   \n",
       "45209   57   blue-collar   married      secondary  telephone   17  nov   508   \n",
       "45210   37  entrepreneur   married      secondary   cellular   17  nov   361   \n",
       "\n",
       "       num_calls prev_outcome    y  \n",
       "0              1      unknown   no  \n",
       "1              1      unknown   no  \n",
       "2              1      unknown   no  \n",
       "3              1      unknown   no  \n",
       "4              1      unknown   no  \n",
       "...          ...          ...  ...  \n",
       "45206          3      unknown  yes  \n",
       "45207          2      unknown  yes  \n",
       "45208          5      success  yes  \n",
       "45209          4      unknown   no  \n",
       "45210          2        other   no  \n",
       "\n",
       "[45211 rows x 11 columns]"
      ]
     },
     "execution_count": 3,
     "metadata": {},
     "output_type": "execute_result"
    }
   ],
   "source": [
    "df = pd.read_csv(r'C:\\Users\\prath\\OneDrive\\Desktop\\excel\\Customer_Conversion_Prediction.csv')\n",
    "print(df.shape)\n",
    "df"
   ]
  },
  {
   "cell_type": "markdown",
   "id": "382dacf2",
   "metadata": {},
   "source": [
    "## Data Cleaning"
   ]
  },
  {
   "cell_type": "markdown",
   "id": "ee7a44b8",
   "metadata": {},
   "source": [
    "### age"
   ]
  },
  {
   "cell_type": "code",
   "execution_count": 4,
   "id": "887800bb",
   "metadata": {},
   "outputs": [
    {
     "data": {
      "text/plain": [
       "58"
      ]
     },
     "execution_count": 4,
     "metadata": {},
     "output_type": "execute_result"
    }
   ],
   "source": [
    "df.age.values[0]"
   ]
  },
  {
   "cell_type": "code",
   "execution_count": 5,
   "id": "d04dc61d",
   "metadata": {},
   "outputs": [
    {
     "data": {
      "text/plain": [
       "dtype('int64')"
      ]
     },
     "execution_count": 5,
     "metadata": {},
     "output_type": "execute_result"
    }
   ],
   "source": [
    "df.age.dtypes"
   ]
  },
  {
   "cell_type": "code",
   "execution_count": 6,
   "id": "0fcdcca2",
   "metadata": {},
   "outputs": [
    {
     "data": {
      "text/plain": [
       "0"
      ]
     },
     "execution_count": 6,
     "metadata": {},
     "output_type": "execute_result"
    }
   ],
   "source": [
    "df.age.isnull().sum()"
   ]
  },
  {
   "cell_type": "code",
   "execution_count": 7,
   "id": "77d3fb68",
   "metadata": {},
   "outputs": [
    {
     "data": {
      "text/plain": [
       "0.1703125345601734"
      ]
     },
     "execution_count": 7,
     "metadata": {},
     "output_type": "execute_result"
    }
   ],
   "source": [
    "len(df.age.unique()) * 100 / df.shape[0]"
   ]
  },
  {
   "cell_type": "code",
   "execution_count": 8,
   "id": "500293d9",
   "metadata": {},
   "outputs": [
    {
     "data": {
      "text/plain": [
       "count    45211.000000\n",
       "mean        40.936210\n",
       "std         10.618762\n",
       "min         18.000000\n",
       "25%         33.000000\n",
       "50%         39.000000\n",
       "75%         48.000000\n",
       "max         95.000000\n",
       "Name: age, dtype: float64"
      ]
     },
     "execution_count": 8,
     "metadata": {},
     "output_type": "execute_result"
    }
   ],
   "source": [
    "df.age.describe()"
   ]
  },
  {
   "cell_type": "code",
   "execution_count": 9,
   "id": "827f222a",
   "metadata": {},
   "outputs": [
    {
     "data": {
      "text/plain": [
       "(70.5, 10.5)"
      ]
     },
     "execution_count": 9,
     "metadata": {},
     "output_type": "execute_result"
    }
   ],
   "source": [
    "q3 = df.age.quantile(0.75)\n",
    "q1 = df.age.quantile(0.25)\n",
    "iqr = q3 - q1\n",
    "upper_threshold = q3 + 1.5 * iqr\n",
    "lower_threshold = q1 - 1.5 * iqr\n",
    "upper_threshold, lower_threshold"
   ]
  },
  {
   "cell_type": "code",
   "execution_count": 10,
   "id": "ee0a7725",
   "metadata": {},
   "outputs": [
    {
     "data": {
      "text/plain": [
       "count    45211.000000\n",
       "mean        40.868185\n",
       "std         10.394895\n",
       "min         18.000000\n",
       "25%         33.000000\n",
       "50%         39.000000\n",
       "75%         48.000000\n",
       "max         70.500000\n",
       "Name: age, dtype: float64"
      ]
     },
     "execution_count": 10,
     "metadata": {},
     "output_type": "execute_result"
    }
   ],
   "source": [
    "df.age = df.age.clip(lower_threshold, upper_threshold)\n",
    "df.age.describe()"
   ]
  },
  {
   "cell_type": "code",
   "execution_count": 11,
   "id": "24982f1e",
   "metadata": {},
   "outputs": [
    {
     "data": {
      "text/plain": [
       "0        58.0\n",
       "1        44.0\n",
       "2        33.0\n",
       "3        47.0\n",
       "4        33.0\n",
       "         ... \n",
       "45206    51.0\n",
       "45207    70.5\n",
       "45208    70.5\n",
       "45209    57.0\n",
       "45210    37.0\n",
       "Name: age, Length: 45211, dtype: float64"
      ]
     },
     "execution_count": 11,
     "metadata": {},
     "output_type": "execute_result"
    }
   ],
   "source": [
    "df.age "
   ]
  },
  {
   "cell_type": "code",
   "execution_count": 12,
   "id": "b73ba460",
   "metadata": {},
   "outputs": [
    {
     "data": {
      "text/plain": [
       "0        58\n",
       "1        44\n",
       "2        33\n",
       "3        47\n",
       "4        33\n",
       "         ..\n",
       "45206    51\n",
       "45207    70\n",
       "45208    70\n",
       "45209    57\n",
       "45210    37\n",
       "Name: age, Length: 45211, dtype: int64"
      ]
     },
     "execution_count": 12,
     "metadata": {},
     "output_type": "execute_result"
    }
   ],
   "source": [
    "df.age = df.age.astype(\"int64\")\n",
    "df.age"
   ]
  },
  {
   "cell_type": "code",
   "execution_count": 13,
   "id": "cd847971",
   "metadata": {},
   "outputs": [
    {
     "data": {
      "text/plain": [
       "Index(['age', 'job', 'marital', 'education_qual', 'call_type', 'day', 'mon',\n",
       "       'dur', 'num_calls', 'prev_outcome', 'y'],\n",
       "      dtype='object')"
      ]
     },
     "execution_count": 13,
     "metadata": {},
     "output_type": "execute_result"
    }
   ],
   "source": [
    "df.columns"
   ]
  },
  {
   "cell_type": "markdown",
   "id": "0bfea7ea",
   "metadata": {},
   "source": [
    "### job"
   ]
  },
  {
   "cell_type": "code",
   "execution_count": 14,
   "id": "6b3a81c1",
   "metadata": {},
   "outputs": [
    {
     "data": {
      "text/plain": [
       "'management'"
      ]
     },
     "execution_count": 14,
     "metadata": {},
     "output_type": "execute_result"
    }
   ],
   "source": [
    "df.job.values[0]"
   ]
  },
  {
   "cell_type": "code",
   "execution_count": 15,
   "id": "db7bf381",
   "metadata": {},
   "outputs": [
    {
     "data": {
      "text/plain": [
       "count           45211\n",
       "unique             12\n",
       "top       blue-collar\n",
       "freq             9732\n",
       "Name: job, dtype: object"
      ]
     },
     "execution_count": 15,
     "metadata": {},
     "output_type": "execute_result"
    }
   ],
   "source": [
    "df.job.describe()"
   ]
  },
  {
   "cell_type": "code",
   "execution_count": 16,
   "id": "3a16b920",
   "metadata": {},
   "outputs": [
    {
     "data": {
      "text/plain": [
       "dtype('O')"
      ]
     },
     "execution_count": 16,
     "metadata": {},
     "output_type": "execute_result"
    }
   ],
   "source": [
    "df.job.dtypes"
   ]
  },
  {
   "cell_type": "code",
   "execution_count": 17,
   "id": "4b7198e5",
   "metadata": {},
   "outputs": [
    {
     "data": {
      "text/plain": [
       "0"
      ]
     },
     "execution_count": 17,
     "metadata": {},
     "output_type": "execute_result"
    }
   ],
   "source": [
    "df.job.isnull().sum()"
   ]
  },
  {
   "cell_type": "code",
   "execution_count": 18,
   "id": "d2e423f3",
   "metadata": {},
   "outputs": [
    {
     "data": {
      "text/plain": [
       "blue-collar      9732\n",
       "management       9458\n",
       "technician       7597\n",
       "admin.           5171\n",
       "services         4154\n",
       "retired          2264\n",
       "self-employed    1579\n",
       "entrepreneur     1487\n",
       "unemployed       1303\n",
       "housemaid        1240\n",
       "student           938\n",
       "unknown           288\n",
       "Name: job, dtype: int64"
      ]
     },
     "execution_count": 18,
     "metadata": {},
     "output_type": "execute_result"
    }
   ],
   "source": [
    "df.job.value_counts()"
   ]
  },
  {
   "cell_type": "markdown",
   "id": "8feff580",
   "metadata": {},
   "source": [
    "### marital"
   ]
  },
  {
   "cell_type": "code",
   "execution_count": 19,
   "id": "b1481528",
   "metadata": {},
   "outputs": [
    {
     "data": {
      "text/plain": [
       "'married'"
      ]
     },
     "execution_count": 19,
     "metadata": {},
     "output_type": "execute_result"
    }
   ],
   "source": [
    "df.marital.values[0]"
   ]
  },
  {
   "cell_type": "code",
   "execution_count": 20,
   "id": "1eadeb71",
   "metadata": {},
   "outputs": [
    {
     "data": {
      "text/plain": [
       "(dtype('O'),\n",
       " count       45211\n",
       " unique          3\n",
       " top       married\n",
       " freq        27214\n",
       " Name: marital, dtype: object)"
      ]
     },
     "execution_count": 20,
     "metadata": {},
     "output_type": "execute_result"
    }
   ],
   "source": [
    "df.marital.dtypes, df.marital.describe()"
   ]
  },
  {
   "cell_type": "code",
   "execution_count": 21,
   "id": "6adc1c45",
   "metadata": {},
   "outputs": [
    {
     "data": {
      "text/plain": [
       "0"
      ]
     },
     "execution_count": 21,
     "metadata": {},
     "output_type": "execute_result"
    }
   ],
   "source": [
    "df.marital.isnull().sum()"
   ]
  },
  {
   "cell_type": "code",
   "execution_count": 22,
   "id": "1d902891",
   "metadata": {},
   "outputs": [
    {
     "data": {
      "text/plain": [
       "married     27214\n",
       "single      12790\n",
       "divorced     5207\n",
       "Name: marital, dtype: int64"
      ]
     },
     "execution_count": 22,
     "metadata": {},
     "output_type": "execute_result"
    }
   ],
   "source": [
    "df.marital.value_counts()"
   ]
  },
  {
   "cell_type": "markdown",
   "id": "dea850b9",
   "metadata": {},
   "source": [
    "### education_qual"
   ]
  },
  {
   "cell_type": "code",
   "execution_count": 23,
   "id": "70b6151b",
   "metadata": {},
   "outputs": [
    {
     "data": {
      "text/plain": [
       "'tertiary'"
      ]
     },
     "execution_count": 23,
     "metadata": {},
     "output_type": "execute_result"
    }
   ],
   "source": [
    "df.education_qual.values[0]"
   ]
  },
  {
   "cell_type": "code",
   "execution_count": 24,
   "id": "a239595b",
   "metadata": {},
   "outputs": [
    {
     "data": {
      "text/plain": [
       "(secondary    23202\n",
       " tertiary     13301\n",
       " primary       6851\n",
       " unknown       1857\n",
       " Name: education_qual, dtype: int64,\n",
       " dtype('O'),\n",
       " 0)"
      ]
     },
     "execution_count": 24,
     "metadata": {},
     "output_type": "execute_result"
    }
   ],
   "source": [
    "df.education_qual.value_counts(), df.education_qual.dtypes, df.education_qual.isnull().sum()"
   ]
  },
  {
   "cell_type": "code",
   "execution_count": 25,
   "id": "379377ff",
   "metadata": {},
   "outputs": [
    {
     "data": {
      "text/plain": [
       "count         45211\n",
       "unique            4\n",
       "top       secondary\n",
       "freq          23202\n",
       "Name: education_qual, dtype: object"
      ]
     },
     "execution_count": 25,
     "metadata": {},
     "output_type": "execute_result"
    }
   ],
   "source": [
    "df.education_qual.describe()"
   ]
  },
  {
   "cell_type": "markdown",
   "id": "58675f71",
   "metadata": {},
   "source": [
    "### call_type"
   ]
  },
  {
   "cell_type": "code",
   "execution_count": 26,
   "id": "f30cdc51",
   "metadata": {},
   "outputs": [
    {
     "data": {
      "text/plain": [
       "'unknown'"
      ]
     },
     "execution_count": 26,
     "metadata": {},
     "output_type": "execute_result"
    }
   ],
   "source": [
    "df.call_type.values[0]"
   ]
  },
  {
   "cell_type": "code",
   "execution_count": 27,
   "id": "b4cc109a",
   "metadata": {},
   "outputs": [
    {
     "data": {
      "text/plain": [
       "(0,\n",
       " count        45211\n",
       " unique           3\n",
       " top       cellular\n",
       " freq         29285\n",
       " Name: call_type, dtype: object,\n",
       " dtype('O'),\n",
       " cellular     29285\n",
       " unknown      13020\n",
       " telephone     2906\n",
       " Name: call_type, dtype: int64)"
      ]
     },
     "execution_count": 27,
     "metadata": {},
     "output_type": "execute_result"
    }
   ],
   "source": [
    "df.call_type.isnull().sum(), df.call_type.describe(), df.call_type.dtypes, df.call_type.value_counts()"
   ]
  },
  {
   "cell_type": "markdown",
   "id": "3fdc317f",
   "metadata": {},
   "source": [
    "### day (last contact day of the month (numeric))"
   ]
  },
  {
   "cell_type": "code",
   "execution_count": 28,
   "id": "5010bc6e",
   "metadata": {},
   "outputs": [
    {
     "data": {
      "text/plain": [
       "5"
      ]
     },
     "execution_count": 28,
     "metadata": {},
     "output_type": "execute_result"
    }
   ],
   "source": [
    "df.day.values[0]"
   ]
  },
  {
   "cell_type": "code",
   "execution_count": 29,
   "id": "e6d76b24",
   "metadata": {},
   "outputs": [
    {
     "data": {
      "text/plain": [
       "(dtype('int64'),\n",
       " count    45211.000000\n",
       " mean        15.806419\n",
       " std          8.322476\n",
       " min          1.000000\n",
       " 25%          8.000000\n",
       " 50%         16.000000\n",
       " 75%         21.000000\n",
       " max         31.000000\n",
       " Name: day, dtype: float64,\n",
       " 0)"
      ]
     },
     "execution_count": 29,
     "metadata": {},
     "output_type": "execute_result"
    }
   ],
   "source": [
    "df.day.dtypes, df.day.describe(), df.day.isnull().sum()"
   ]
  },
  {
   "cell_type": "markdown",
   "id": "6c2e46a6",
   "metadata": {},
   "source": [
    "### mon (last contact month of year)"
   ]
  },
  {
   "cell_type": "code",
   "execution_count": 30,
   "id": "bc9800bd",
   "metadata": {},
   "outputs": [
    {
     "data": {
      "text/plain": [
       "'may'"
      ]
     },
     "execution_count": 30,
     "metadata": {},
     "output_type": "execute_result"
    }
   ],
   "source": [
    "df.mon.values[0]"
   ]
  },
  {
   "cell_type": "code",
   "execution_count": 31,
   "id": "33403070",
   "metadata": {},
   "outputs": [
    {
     "data": {
      "text/plain": [
       "(dtype('O'),\n",
       " 0,\n",
       " count     45211\n",
       " unique       12\n",
       " top         may\n",
       " freq      13766\n",
       " Name: mon, dtype: object,\n",
       " may    13766\n",
       " jul     6895\n",
       " aug     6247\n",
       " jun     5341\n",
       " nov     3970\n",
       " apr     2932\n",
       " feb     2649\n",
       " jan     1403\n",
       " oct      738\n",
       " sep      579\n",
       " mar      477\n",
       " dec      214\n",
       " Name: mon, dtype: int64)"
      ]
     },
     "execution_count": 31,
     "metadata": {},
     "output_type": "execute_result"
    }
   ],
   "source": [
    "df.mon.dtypes, df.mon.isnull().sum(), df.mon.describe(), df.mon.value_counts()"
   ]
  },
  {
   "cell_type": "markdown",
   "id": "6d45232f",
   "metadata": {},
   "source": [
    "### dur (last contact duration, in seconds (numeric))"
   ]
  },
  {
   "cell_type": "code",
   "execution_count": 32,
   "id": "dd00c03b",
   "metadata": {},
   "outputs": [
    {
     "data": {
      "text/plain": [
       "261"
      ]
     },
     "execution_count": 32,
     "metadata": {},
     "output_type": "execute_result"
    }
   ],
   "source": [
    "df.dur.values[0]"
   ]
  },
  {
   "cell_type": "code",
   "execution_count": 33,
   "id": "d9b1f24f",
   "metadata": {},
   "outputs": [
    {
     "data": {
      "text/plain": [
       "(dtype('int64'),\n",
       " 0,\n",
       " count    45211.000000\n",
       " mean       258.163080\n",
       " std        257.527812\n",
       " min          0.000000\n",
       " 25%        103.000000\n",
       " 50%        180.000000\n",
       " 75%        319.000000\n",
       " max       4918.000000\n",
       " Name: dur, dtype: float64)"
      ]
     },
     "execution_count": 33,
     "metadata": {},
     "output_type": "execute_result"
    }
   ],
   "source": [
    "df.dur.dtypes, df.dur.isnull().sum(), df.dur.describe()"
   ]
  },
  {
   "cell_type": "code",
   "execution_count": 34,
   "id": "e53a8914",
   "metadata": {},
   "outputs": [],
   "source": [
    "# q3 = df.dur.quantile(0.75)\n",
    "# q1 = df.dur.quantile(0.25)\n",
    "# iqr = q3 - q1\n",
    "# upper_threshold = q3 + 1.5 * iqr\n",
    "# lower_threshold = q1 - 1.5 * iqr\n",
    "# upper_threshold, lower_threshold"
   ]
  },
  {
   "cell_type": "code",
   "execution_count": 35,
   "id": "5807f329",
   "metadata": {},
   "outputs": [],
   "source": [
    "# df.dur = df.dur.clip(lower_threshold, upper_threshold)\n",
    "# df.dur.describe()"
   ]
  },
  {
   "cell_type": "markdown",
   "id": "92a91fb5",
   "metadata": {},
   "source": [
    "### num_calls (number of contacts performed during this campaign and for this client )"
   ]
  },
  {
   "cell_type": "code",
   "execution_count": 36,
   "id": "3f5fd806",
   "metadata": {},
   "outputs": [
    {
     "data": {
      "text/plain": [
       "1"
      ]
     },
     "execution_count": 36,
     "metadata": {},
     "output_type": "execute_result"
    }
   ],
   "source": [
    "df.num_calls.values[0]"
   ]
  },
  {
   "cell_type": "code",
   "execution_count": 37,
   "id": "2723c46f",
   "metadata": {},
   "outputs": [
    {
     "data": {
      "text/plain": [
       "(dtype('int64'),\n",
       " 0,\n",
       " count    45211.000000\n",
       " mean         2.763841\n",
       " std          3.098021\n",
       " min          1.000000\n",
       " 25%          1.000000\n",
       " 50%          2.000000\n",
       " 75%          3.000000\n",
       " max         63.000000\n",
       " Name: num_calls, dtype: float64)"
      ]
     },
     "execution_count": 37,
     "metadata": {},
     "output_type": "execute_result"
    }
   ],
   "source": [
    "df.num_calls.dtypes, df.num_calls.isnull().sum(), df.num_calls.describe()"
   ]
  },
  {
   "cell_type": "code",
   "execution_count": 38,
   "id": "67b55553",
   "metadata": {},
   "outputs": [
    {
     "data": {
      "text/plain": [
       "1     17544\n",
       "2     12505\n",
       "3      5521\n",
       "4      3522\n",
       "5      1764\n",
       "6      1291\n",
       "7       735\n",
       "8       540\n",
       "9       327\n",
       "10      266\n",
       "11      201\n",
       "12      155\n",
       "13      133\n",
       "14       93\n",
       "15       84\n",
       "16       79\n",
       "17       69\n",
       "18       51\n",
       "19       44\n",
       "20       43\n",
       "21       35\n",
       "22       23\n",
       "25       22\n",
       "23       22\n",
       "24       20\n",
       "28       16\n",
       "29       16\n",
       "26       13\n",
       "31       12\n",
       "27       10\n",
       "32        9\n",
       "30        8\n",
       "33        6\n",
       "34        5\n",
       "35        4\n",
       "36        4\n",
       "38        3\n",
       "43        3\n",
       "37        2\n",
       "50        2\n",
       "41        2\n",
       "51        1\n",
       "58        1\n",
       "39        1\n",
       "55        1\n",
       "44        1\n",
       "46        1\n",
       "63        1\n",
       "Name: num_calls, dtype: int64"
      ]
     },
     "execution_count": 38,
     "metadata": {},
     "output_type": "execute_result"
    }
   ],
   "source": [
    "df.num_calls.value_counts() "
   ]
  },
  {
   "cell_type": "code",
   "execution_count": 39,
   "id": "fef45cc5",
   "metadata": {},
   "outputs": [],
   "source": [
    "# q3 = df.num_calls.quantile(0.75)\n",
    "# q1 = df.num_calls.quantile(0.25)\n",
    "# iqr = q3 - q1\n",
    "# upper_threshold = q3 + 1.5 * iqr\n",
    "# lower_threshold = q1 - 1.5 * iqr\n",
    "# upper_threshold, lower_threshold"
   ]
  },
  {
   "cell_type": "code",
   "execution_count": 40,
   "id": "52ba2a0c",
   "metadata": {},
   "outputs": [],
   "source": [
    "# df.num_calls = df.num_calls.clip(lower_threshold, upper_threshold)\n",
    "# df.num_calls.describe()"
   ]
  },
  {
   "cell_type": "markdown",
   "id": "262ee7e9",
   "metadata": {},
   "source": [
    "### prev_outcome (outcome of the previous marketing campaign)"
   ]
  },
  {
   "cell_type": "code",
   "execution_count": 41,
   "id": "1cc7bb54",
   "metadata": {},
   "outputs": [
    {
     "data": {
      "text/plain": [
       "'unknown'"
      ]
     },
     "execution_count": 41,
     "metadata": {},
     "output_type": "execute_result"
    }
   ],
   "source": [
    "df.prev_outcome.values[0]"
   ]
  },
  {
   "cell_type": "code",
   "execution_count": 42,
   "id": "109d569f",
   "metadata": {},
   "outputs": [
    {
     "data": {
      "text/plain": [
       "(dtype('O'),\n",
       " 0,\n",
       " count       45211\n",
       " unique          4\n",
       " top       unknown\n",
       " freq        36959\n",
       " Name: prev_outcome, dtype: object,\n",
       " unknown    36959\n",
       " failure     4901\n",
       " other       1840\n",
       " success     1511\n",
       " Name: prev_outcome, dtype: int64)"
      ]
     },
     "execution_count": 42,
     "metadata": {},
     "output_type": "execute_result"
    }
   ],
   "source": [
    "df.prev_outcome.dtypes, df.prev_outcome.isnull().sum(), df.prev_outcome.describe(), df.prev_outcome.value_counts()"
   ]
  },
  {
   "cell_type": "markdown",
   "id": "ce404ad5",
   "metadata": {},
   "source": [
    "### y (has the client subscribed to the insurance?)"
   ]
  },
  {
   "cell_type": "code",
   "execution_count": 43,
   "id": "99d37bdf",
   "metadata": {},
   "outputs": [
    {
     "data": {
      "text/plain": [
       "'no'"
      ]
     },
     "execution_count": 43,
     "metadata": {},
     "output_type": "execute_result"
    }
   ],
   "source": [
    "df.y.values[0]"
   ]
  },
  {
   "cell_type": "code",
   "execution_count": 44,
   "id": "c82614f7",
   "metadata": {},
   "outputs": [
    {
     "data": {
      "text/plain": [
       "(dtype('O'),\n",
       " 0,\n",
       " no     39922\n",
       " yes     5289\n",
       " Name: y, dtype: int64)"
      ]
     },
     "execution_count": 44,
     "metadata": {},
     "output_type": "execute_result"
    }
   ],
   "source": [
    "df.y.dtypes, df.y.isnull().sum(), df.y.value_counts()"
   ]
  },
  {
   "cell_type": "code",
   "execution_count": 45,
   "id": "538c966b",
   "metadata": {},
   "outputs": [
    {
     "data": {
      "text/plain": [
       "no     0.883015\n",
       "yes    0.116985\n",
       "Name: y, dtype: float64"
      ]
     },
     "execution_count": 45,
     "metadata": {},
     "output_type": "execute_result"
    }
   ],
   "source": [
    "df.y.value_counts('no')"
   ]
  },
  {
   "cell_type": "code",
   "execution_count": 46,
   "id": "0fb8de1a",
   "metadata": {},
   "outputs": [
    {
     "data": {
      "text/plain": [
       "((45211, 11), 0.8830151954170445)"
      ]
     },
     "execution_count": 46,
     "metadata": {},
     "output_type": "execute_result"
    }
   ],
   "source": [
    "df.shape, 39922/45211"
   ]
  },
  {
   "cell_type": "code",
   "execution_count": 47,
   "id": "c0e6e62e",
   "metadata": {},
   "outputs": [],
   "source": [
    "df = df.drop_duplicates()   # code to delete duplicates"
   ]
  },
  {
   "cell_type": "code",
   "execution_count": 48,
   "id": "3a05f39b",
   "metadata": {},
   "outputs": [
    {
     "data": {
      "text/plain": [
       "(45205, 11)"
      ]
     },
     "execution_count": 48,
     "metadata": {},
     "output_type": "execute_result"
    }
   ],
   "source": [
    "df.shape"
   ]
  },
  {
   "cell_type": "code",
   "execution_count": 49,
   "id": "c70ebdb5",
   "metadata": {},
   "outputs": [
    {
     "data": {
      "text/html": [
       "<div>\n",
       "<style scoped>\n",
       "    .dataframe tbody tr th:only-of-type {\n",
       "        vertical-align: middle;\n",
       "    }\n",
       "\n",
       "    .dataframe tbody tr th {\n",
       "        vertical-align: top;\n",
       "    }\n",
       "\n",
       "    .dataframe thead th {\n",
       "        text-align: right;\n",
       "    }\n",
       "</style>\n",
       "<table border=\"1\" class=\"dataframe\">\n",
       "  <thead>\n",
       "    <tr style=\"text-align: right;\">\n",
       "      <th></th>\n",
       "      <th>age</th>\n",
       "      <th>job</th>\n",
       "      <th>marital</th>\n",
       "      <th>education_qual</th>\n",
       "      <th>call_type</th>\n",
       "      <th>day</th>\n",
       "      <th>mon</th>\n",
       "      <th>dur</th>\n",
       "      <th>num_calls</th>\n",
       "      <th>prev_outcome</th>\n",
       "      <th>y</th>\n",
       "    </tr>\n",
       "  </thead>\n",
       "  <tbody>\n",
       "    <tr>\n",
       "      <th>0</th>\n",
       "      <td>58</td>\n",
       "      <td>management</td>\n",
       "      <td>married</td>\n",
       "      <td>tertiary</td>\n",
       "      <td>unknown</td>\n",
       "      <td>5</td>\n",
       "      <td>may</td>\n",
       "      <td>261</td>\n",
       "      <td>1</td>\n",
       "      <td>unknown</td>\n",
       "      <td>no</td>\n",
       "    </tr>\n",
       "    <tr>\n",
       "      <th>1</th>\n",
       "      <td>44</td>\n",
       "      <td>technician</td>\n",
       "      <td>single</td>\n",
       "      <td>secondary</td>\n",
       "      <td>unknown</td>\n",
       "      <td>5</td>\n",
       "      <td>may</td>\n",
       "      <td>151</td>\n",
       "      <td>1</td>\n",
       "      <td>unknown</td>\n",
       "      <td>no</td>\n",
       "    </tr>\n",
       "    <tr>\n",
       "      <th>2</th>\n",
       "      <td>33</td>\n",
       "      <td>entrepreneur</td>\n",
       "      <td>married</td>\n",
       "      <td>secondary</td>\n",
       "      <td>unknown</td>\n",
       "      <td>5</td>\n",
       "      <td>may</td>\n",
       "      <td>76</td>\n",
       "      <td>1</td>\n",
       "      <td>unknown</td>\n",
       "      <td>no</td>\n",
       "    </tr>\n",
       "    <tr>\n",
       "      <th>3</th>\n",
       "      <td>47</td>\n",
       "      <td>blue-collar</td>\n",
       "      <td>married</td>\n",
       "      <td>unknown</td>\n",
       "      <td>unknown</td>\n",
       "      <td>5</td>\n",
       "      <td>may</td>\n",
       "      <td>92</td>\n",
       "      <td>1</td>\n",
       "      <td>unknown</td>\n",
       "      <td>no</td>\n",
       "    </tr>\n",
       "    <tr>\n",
       "      <th>4</th>\n",
       "      <td>33</td>\n",
       "      <td>unknown</td>\n",
       "      <td>single</td>\n",
       "      <td>unknown</td>\n",
       "      <td>unknown</td>\n",
       "      <td>5</td>\n",
       "      <td>may</td>\n",
       "      <td>198</td>\n",
       "      <td>1</td>\n",
       "      <td>unknown</td>\n",
       "      <td>no</td>\n",
       "    </tr>\n",
       "  </tbody>\n",
       "</table>\n",
       "</div>"
      ],
      "text/plain": [
       "   age           job  marital education_qual call_type  day  mon  dur  \\\n",
       "0   58    management  married       tertiary   unknown    5  may  261   \n",
       "1   44    technician   single      secondary   unknown    5  may  151   \n",
       "2   33  entrepreneur  married      secondary   unknown    5  may   76   \n",
       "3   47   blue-collar  married        unknown   unknown    5  may   92   \n",
       "4   33       unknown   single        unknown   unknown    5  may  198   \n",
       "\n",
       "   num_calls prev_outcome   y  \n",
       "0          1      unknown  no  \n",
       "1          1      unknown  no  \n",
       "2          1      unknown  no  \n",
       "3          1      unknown  no  \n",
       "4          1      unknown  no  "
      ]
     },
     "execution_count": 49,
     "metadata": {},
     "output_type": "execute_result"
    }
   ],
   "source": [
    "df.head()"
   ]
  },
  {
   "cell_type": "markdown",
   "id": "3b0883b7",
   "metadata": {},
   "source": [
    "## EDA"
   ]
  },
  {
   "cell_type": "code",
   "execution_count": 50,
   "id": "f072039d",
   "metadata": {},
   "outputs": [
    {
     "data": {
      "text/plain": [
       "age                int64\n",
       "job               object\n",
       "marital           object\n",
       "education_qual    object\n",
       "call_type         object\n",
       "day                int64\n",
       "mon               object\n",
       "dur                int64\n",
       "num_calls          int64\n",
       "prev_outcome      object\n",
       "y                 object\n",
       "dtype: object"
      ]
     },
     "execution_count": 50,
     "metadata": {},
     "output_type": "execute_result"
    }
   ],
   "source": [
    "df.dtypes"
   ]
  },
  {
   "cell_type": "markdown",
   "id": "946991e0",
   "metadata": {},
   "source": [
    "#### A pairplot is also known as scatter plot, in which one continuous variable in the same data row is matched with another continuous variable's value"
   ]
  },
  {
   "cell_type": "code",
   "execution_count": 51,
   "id": "1d3d2a54",
   "metadata": {},
   "outputs": [
    {
     "data": {
      "text/html": [
       "<div>\n",
       "<style scoped>\n",
       "    .dataframe tbody tr th:only-of-type {\n",
       "        vertical-align: middle;\n",
       "    }\n",
       "\n",
       "    .dataframe tbody tr th {\n",
       "        vertical-align: top;\n",
       "    }\n",
       "\n",
       "    .dataframe thead th {\n",
       "        text-align: right;\n",
       "    }\n",
       "</style>\n",
       "<table border=\"1\" class=\"dataframe\">\n",
       "  <thead>\n",
       "    <tr style=\"text-align: right;\">\n",
       "      <th></th>\n",
       "      <th>age</th>\n",
       "      <th>day</th>\n",
       "      <th>dur</th>\n",
       "      <th>num_calls</th>\n",
       "    </tr>\n",
       "  </thead>\n",
       "  <tbody>\n",
       "    <tr>\n",
       "      <th>0</th>\n",
       "      <td>58</td>\n",
       "      <td>5</td>\n",
       "      <td>261</td>\n",
       "      <td>1</td>\n",
       "    </tr>\n",
       "    <tr>\n",
       "      <th>1</th>\n",
       "      <td>44</td>\n",
       "      <td>5</td>\n",
       "      <td>151</td>\n",
       "      <td>1</td>\n",
       "    </tr>\n",
       "    <tr>\n",
       "      <th>2</th>\n",
       "      <td>33</td>\n",
       "      <td>5</td>\n",
       "      <td>76</td>\n",
       "      <td>1</td>\n",
       "    </tr>\n",
       "    <tr>\n",
       "      <th>3</th>\n",
       "      <td>47</td>\n",
       "      <td>5</td>\n",
       "      <td>92</td>\n",
       "      <td>1</td>\n",
       "    </tr>\n",
       "    <tr>\n",
       "      <th>4</th>\n",
       "      <td>33</td>\n",
       "      <td>5</td>\n",
       "      <td>198</td>\n",
       "      <td>1</td>\n",
       "    </tr>\n",
       "  </tbody>\n",
       "</table>\n",
       "</div>"
      ],
      "text/plain": [
       "   age  day  dur  num_calls\n",
       "0   58    5  261          1\n",
       "1   44    5  151          1\n",
       "2   33    5   76          1\n",
       "3   47    5   92          1\n",
       "4   33    5  198          1"
      ]
     },
     "execution_count": 51,
     "metadata": {},
     "output_type": "execute_result"
    }
   ],
   "source": [
    "df_cont = df[['age', 'day', 'dur', 'num_calls']]\n",
    "df_cont.head()"
   ]
  },
  {
   "cell_type": "code",
   "execution_count": 52,
   "id": "e326b42e",
   "metadata": {},
   "outputs": [
    {
     "data": {
      "text/plain": [
       "<seaborn.axisgrid.PairGrid at 0x242b9cb0be0>"
      ]
     },
     "execution_count": 52,
     "metadata": {},
     "output_type": "execute_result"
    },
    {
     "data": {
      "image/png": "[encoded data removed]",
      "text/plain": [
       "<Figure size 720x720 with 20 Axes>"
      ]
     },
     "metadata": {
      "needs_background": "light"
     },
     "output_type": "display_data"
    }
   ],
   "source": [
    "sns.pairplot(df_cont)"
   ]
  },
  {
   "cell_type": "markdown",
   "id": "24e4c78d",
   "metadata": {},
   "source": [
    "#### Distplot:\n",
    "Helps us to check the distribution of the feature columns"
   ]
  },
  {
   "cell_type": "code",
   "execution_count": 53,
   "id": "7e99e51d",
   "metadata": {},
   "outputs": [
    {
     "name": "stderr",
     "output_type": "stream",
     "text": [
      "C:\\ProgramData\\Anaconda3\\lib\\site-packages\\seaborn\\distributions.py:2557: FutureWarning: `distplot` is a deprecated function and will be removed in a future version. Please adapt your code to use either `displot` (a figure-level function with similar flexibility) or `histplot` (an axes-level function for histograms).\n",
      "  warnings.warn(msg, FutureWarning)\n"
     ]
    },
    {
     "data": {
      "text/plain": [
       "<AxesSubplot:xlabel='age', ylabel='Density'>"
      ]
     },
     "execution_count": 53,
     "metadata": {},
     "output_type": "execute_result"
    },
    {
     "data": {
      "image/png": "[encoded data removed]",
      "text/plain": [
       "<Figure size 432x288 with 1 Axes>"
      ]
     },
     "metadata": {
      "needs_background": "light"
     },
     "output_type": "display_data"
    }
   ],
   "source": [
    "sns.distplot(df['age'])"
   ]
  },
  {
   "cell_type": "code",
   "execution_count": 54,
   "id": "1c2ea7a5",
   "metadata": {},
   "outputs": [
    {
     "name": "stderr",
     "output_type": "stream",
     "text": [
      "C:\\ProgramData\\Anaconda3\\lib\\site-packages\\seaborn\\distributions.py:2557: FutureWarning: `distplot` is a deprecated function and will be removed in a future version. Please adapt your code to use either `displot` (a figure-level function with similar flexibility) or `histplot` (an axes-level function for histograms).\n",
      "  warnings.warn(msg, FutureWarning)\n"
     ]
    },
    {
     "data": {
      "text/plain": [
       "<AxesSubplot:xlabel='day', ylabel='Density'>"
      ]
     },
     "execution_count": 54,
     "metadata": {},
     "output_type": "execute_result"
    },
    {
     "data": {
      "image/png": "[encoded data removed]",
      "text/plain": [
       "<Figure size 432x288 with 1 Axes>"
      ]
     },
     "metadata": {
      "needs_background": "light"
     },
     "output_type": "display_data"
    }
   ],
   "source": [
    "sns.distplot(df['day'])"
   ]
  },
  {
   "cell_type": "code",
   "execution_count": 55,
   "id": "ca0aac77",
   "metadata": {},
   "outputs": [
    {
     "name": "stderr",
     "output_type": "stream",
     "text": [
      "C:\\ProgramData\\Anaconda3\\lib\\site-packages\\seaborn\\distributions.py:2557: FutureWarning: `distplot` is a deprecated function and will be removed in a future version. Please adapt your code to use either `displot` (a figure-level function with similar flexibility) or `histplot` (an axes-level function for histograms).\n",
      "  warnings.warn(msg, FutureWarning)\n"
     ]
    },
    {
     "data": {
      "text/plain": [
       "<AxesSubplot:xlabel='dur', ylabel='Density'>"
      ]
     },
     "execution_count": 55,
     "metadata": {},
     "output_type": "execute_result"
    },
    {
     "data": {
      "image/png": "[encoded data removed]",
      "text/plain": [
       "<Figure size 432x288 with 1 Axes>"
      ]
     },
     "metadata": {
      "needs_background": "light"
     },
     "output_type": "display_data"
    }
   ],
   "source": [
    "sns.distplot(df['dur'])"
   ]
  },
  {
   "cell_type": "code",
   "execution_count": 56,
   "id": "f73fb5f9",
   "metadata": {},
   "outputs": [
    {
     "data": {
      "text/plain": [
       "age                int64\n",
       "job               object\n",
       "marital           object\n",
       "education_qual    object\n",
       "call_type         object\n",
       "day                int64\n",
       "mon               object\n",
       "dur                int64\n",
       "num_calls          int64\n",
       "prev_outcome      object\n",
       "y                 object\n",
       "dtype: object"
      ]
     },
     "execution_count": 56,
     "metadata": {},
     "output_type": "execute_result"
    }
   ],
   "source": [
    "df.dtypes"
   ]
  },
  {
   "cell_type": "markdown",
   "id": "f5f05803",
   "metadata": {},
   "source": [
    "#### Count Plot:\n",
    "Show the counts of observations in each categorical bin using bars."
   ]
  },
  {
   "cell_type": "code",
   "execution_count": 57,
   "id": "f28baf35",
   "metadata": {},
   "outputs": [
    {
     "name": "stderr",
     "output_type": "stream",
     "text": [
      "C:\\ProgramData\\Anaconda3\\lib\\site-packages\\seaborn\\_decorators.py:36: FutureWarning: Pass the following variable as a keyword arg: x. From version 0.12, the only valid positional argument will be `data`, and passing other arguments without an explicit keyword will result in an error or misinterpretation.\n",
      "  warnings.warn(\n"
     ]
    },
    {
     "data": {
      "text/plain": [
       "<AxesSubplot:xlabel='job', ylabel='count'>"
      ]
     },
     "execution_count": 57,
     "metadata": {},
     "output_type": "execute_result"
    },
    {
     "data": {
      "image/png": "[encoded data removed]",
      "text/plain": [
       "<Figure size 1080x576 with 1 Axes>"
      ]
     },
     "metadata": {
      "needs_background": "light"
     },
     "output_type": "display_data"
    }
   ],
   "source": [
    "plt.figure(figsize =(15,8))\n",
    "sns.countplot(\"job\", data = df)"
   ]
  },
  {
   "cell_type": "code",
   "execution_count": 58,
   "id": "8c472f5f",
   "metadata": {},
   "outputs": [
    {
     "name": "stderr",
     "output_type": "stream",
     "text": [
      "C:\\ProgramData\\Anaconda3\\lib\\site-packages\\seaborn\\_decorators.py:36: FutureWarning: Pass the following variable as a keyword arg: x. From version 0.12, the only valid positional argument will be `data`, and passing other arguments without an explicit keyword will result in an error or misinterpretation.\n",
      "  warnings.warn(\n"
     ]
    },
    {
     "data": {
      "text/plain": [
       "<AxesSubplot:xlabel='marital', ylabel='count'>"
      ]
     },
     "execution_count": 58,
     "metadata": {},
     "output_type": "execute_result"
    },
    {
     "data": {
      "image/png": "[encoded data removed]",
      "text/plain": [
       "<Figure size 432x288 with 1 Axes>"
      ]
     },
     "metadata": {
      "needs_background": "light"
     },
     "output_type": "display_data"
    }
   ],
   "source": [
    "sns.countplot(\"marital\", data = df)"
   ]
  },
  {
   "cell_type": "code",
   "execution_count": 59,
   "id": "3428727a",
   "metadata": {},
   "outputs": [
    {
     "name": "stderr",
     "output_type": "stream",
     "text": [
      "C:\\ProgramData\\Anaconda3\\lib\\site-packages\\seaborn\\_decorators.py:36: FutureWarning: Pass the following variable as a keyword arg: x. From version 0.12, the only valid positional argument will be `data`, and passing other arguments without an explicit keyword will result in an error or misinterpretation.\n",
      "  warnings.warn(\n"
     ]
    },
    {
     "data": {
      "text/plain": [
       "<AxesSubplot:xlabel='education_qual', ylabel='count'>"
      ]
     },
     "execution_count": 59,
     "metadata": {},
     "output_type": "execute_result"
    },
    {
     "data": {
      "image/png": "[encoded data removed]",
      "text/plain": [
       "<Figure size 432x288 with 1 Axes>"
      ]
     },
     "metadata": {
      "needs_background": "light"
     },
     "output_type": "display_data"
    }
   ],
   "source": [
    "sns.countplot(\"education_qual\", data = df)"
   ]
  },
  {
   "cell_type": "code",
   "execution_count": 60,
   "id": "42e25907",
   "metadata": {},
   "outputs": [
    {
     "name": "stderr",
     "output_type": "stream",
     "text": [
      "C:\\ProgramData\\Anaconda3\\lib\\site-packages\\seaborn\\_decorators.py:36: FutureWarning: Pass the following variable as a keyword arg: x. From version 0.12, the only valid positional argument will be `data`, and passing other arguments without an explicit keyword will result in an error or misinterpretation.\n",
      "  warnings.warn(\n"
     ]
    },
    {
     "data": {
      "text/plain": [
       "<AxesSubplot:xlabel='call_type', ylabel='count'>"
      ]
     },
     "execution_count": 60,
     "metadata": {},
     "output_type": "execute_result"
    },
    {
     "data": {
      "image/png": "[encoded data removed]",
      "text/plain": [
       "<Figure size 432x288 with 1 Axes>"
      ]
     },
     "metadata": {
      "needs_background": "light"
     },
     "output_type": "display_data"
    }
   ],
   "source": [
    "sns.countplot(\"call_type\", data = df)"
   ]
  },
  {
   "cell_type": "code",
   "execution_count": 61,
   "id": "27bc8581",
   "metadata": {},
   "outputs": [
    {
     "name": "stderr",
     "output_type": "stream",
     "text": [
      "C:\\ProgramData\\Anaconda3\\lib\\site-packages\\seaborn\\_decorators.py:36: FutureWarning: Pass the following variable as a keyword arg: x. From version 0.12, the only valid positional argument will be `data`, and passing other arguments without an explicit keyword will result in an error or misinterpretation.\n",
      "  warnings.warn(\n"
     ]
    },
    {
     "data": {
      "text/plain": [
       "<AxesSubplot:xlabel='mon', ylabel='count'>"
      ]
     },
     "execution_count": 61,
     "metadata": {},
     "output_type": "execute_result"
    },
    {
     "data": {
      "image/png": "[encoded data removed]",
      "text/plain": [
       "<Figure size 432x288 with 1 Axes>"
      ]
     },
     "metadata": {
      "needs_background": "light"
     },
     "output_type": "display_data"
    }
   ],
   "source": [
    "sns.countplot(\"mon\", data = df)"
   ]
  },
  {
   "cell_type": "code",
   "execution_count": 62,
   "id": "e7f7ddb2",
   "metadata": {},
   "outputs": [
    {
     "name": "stderr",
     "output_type": "stream",
     "text": [
      "C:\\ProgramData\\Anaconda3\\lib\\site-packages\\seaborn\\_decorators.py:36: FutureWarning: Pass the following variable as a keyword arg: x. From version 0.12, the only valid positional argument will be `data`, and passing other arguments without an explicit keyword will result in an error or misinterpretation.\n",
      "  warnings.warn(\n"
     ]
    },
    {
     "data": {
      "text/plain": [
       "<AxesSubplot:xlabel='prev_outcome', ylabel='count'>"
      ]
     },
     "execution_count": 62,
     "metadata": {},
     "output_type": "execute_result"
    },
    {
     "data": {
      "image/png": "[encoded data removed]",
      "text/plain": [
       "<Figure size 432x288 with 1 Axes>"
      ]
     },
     "metadata": {
      "needs_background": "light"
     },
     "output_type": "display_data"
    }
   ],
   "source": [
    "sns.countplot(\"prev_outcome\", data = df)"
   ]
  },
  {
   "cell_type": "code",
   "execution_count": 63,
   "id": "8594a1f9",
   "metadata": {},
   "outputs": [
    {
     "data": {
      "text/plain": [
       "age                int64\n",
       "job               object\n",
       "marital           object\n",
       "education_qual    object\n",
       "call_type         object\n",
       "day                int64\n",
       "mon               object\n",
       "dur                int64\n",
       "num_calls          int64\n",
       "prev_outcome      object\n",
       "y                 object\n",
       "dtype: object"
      ]
     },
     "execution_count": 63,
     "metadata": {},
     "output_type": "execute_result"
    }
   ],
   "source": [
    "df.dtypes"
   ]
  },
  {
   "cell_type": "markdown",
   "id": "82b913b6",
   "metadata": {},
   "source": [
    "#### Bar Plot:\n",
    "* Do the same thing as count plot. \n",
    "* Here we must give both x and y values.\n",
    "* Either of X or Y value must be continuous.\n",
    "* Not both X and Y values can be categorical.\n",
    "* Both X and Y values can be continuous."
   ]
  },
  {
   "cell_type": "code",
   "execution_count": 64,
   "id": "76038a93",
   "metadata": {},
   "outputs": [
    {
     "data": {
      "text/plain": [
       "<AxesSubplot:xlabel='age', ylabel='job'>"
      ]
     },
     "execution_count": 64,
     "metadata": {},
     "output_type": "execute_result"
    },
    {
     "data": {
      "image/png": "[encoded data removed]",
      "text/plain": [
       "<Figure size 432x288 with 1 Axes>"
      ]
     },
     "metadata": {
      "needs_background": "light"
     },
     "output_type": "display_data"
    }
   ],
   "source": [
    "sns.barplot(x = 'age', y = 'job', data = df, hue = 'y')"
   ]
  },
  {
   "cell_type": "code",
   "execution_count": 65,
   "id": "ee82f0be",
   "metadata": {},
   "outputs": [
    {
     "data": {
      "text/plain": [
       "<AxesSubplot:xlabel='age', ylabel='marital'>"
      ]
     },
     "execution_count": 65,
     "metadata": {},
     "output_type": "execute_result"
    },
    {
     "data": {
      "image/png": "[encoded data removed]",
      "text/plain": [
       "<Figure size 432x288 with 1 Axes>"
      ]
     },
     "metadata": {
      "needs_background": "light"
     },
     "output_type": "display_data"
    }
   ],
   "source": [
    "sns.barplot(x = 'age', y = 'marital', data = df, hue = 'y')"
   ]
  },
  {
   "cell_type": "code",
   "execution_count": 66,
   "id": "e8318f81",
   "metadata": {},
   "outputs": [
    {
     "data": {
      "text/plain": [
       "<AxesSubplot:xlabel='age', ylabel='education_qual'>"
      ]
     },
     "execution_count": 66,
     "metadata": {},
     "output_type": "execute_result"
    },
    {
     "data": {
      "image/png": "[encoded data removed]",
      "text/plain": [
       "<Figure size 432x288 with 1 Axes>"
      ]
     },
     "metadata": {
      "needs_background": "light"
     },
     "output_type": "display_data"
    }
   ],
   "source": [
    "sns.barplot(x = 'age', y = 'education_qual', data = df, hue = 'y')"
   ]
  },
  {
   "cell_type": "code",
   "execution_count": 67,
   "id": "5ad0a3bd",
   "metadata": {},
   "outputs": [
    {
     "data": {
      "text/plain": [
       "<AxesSubplot:xlabel='age', ylabel='call_type'>"
      ]
     },
     "execution_count": 67,
     "metadata": {},
     "output_type": "execute_result"
    },
    {
     "data": {
      "image/png": "[encoded data removed]",
      "text/plain": [
       "<Figure size 432x288 with 1 Axes>"
      ]
     },
     "metadata": {
      "needs_background": "light"
     },
     "output_type": "display_data"
    }
   ],
   "source": [
    "sns.barplot(x = 'age', y = 'call_type', data = df, hue = 'y')"
   ]
  },
  {
   "cell_type": "code",
   "execution_count": 68,
   "id": "7565cf4a",
   "metadata": {},
   "outputs": [
    {
     "data": {
      "text/plain": [
       "<AxesSubplot:xlabel='age', ylabel='mon'>"
      ]
     },
     "execution_count": 68,
     "metadata": {},
     "output_type": "execute_result"
    },
    {
     "data": {
      "image/png": "[encoded data removed]",
      "text/plain": [
       "<Figure size 432x288 with 1 Axes>"
      ]
     },
     "metadata": {
      "needs_background": "light"
     },
     "output_type": "display_data"
    }
   ],
   "source": [
    "sns.barplot(x = 'age', y = 'mon', data = df, hue = 'y')"
   ]
  },
  {
   "cell_type": "code",
   "execution_count": 69,
   "id": "01604a53",
   "metadata": {},
   "outputs": [
    {
     "data": {
      "text/plain": [
       "<AxesSubplot:xlabel='age', ylabel='prev_outcome'>"
      ]
     },
     "execution_count": 69,
     "metadata": {},
     "output_type": "execute_result"
    },
    {
     "data": {
      "image/png": "[encoded data removed]",
      "text/plain": [
       "<Figure size 432x288 with 1 Axes>"
      ]
     },
     "metadata": {
      "needs_background": "light"
     },
     "output_type": "display_data"
    }
   ],
   "source": [
    "sns.barplot(x = 'age', y = 'prev_outcome', data = df, hue = 'y')"
   ]
  },
  {
   "cell_type": "code",
   "execution_count": 70,
   "id": "72f3f264",
   "metadata": {},
   "outputs": [
    {
     "data": {
      "text/plain": [
       "<AxesSubplot:xlabel='age', ylabel='day'>"
      ]
     },
     "execution_count": 70,
     "metadata": {},
     "output_type": "execute_result"
    },
    {
     "data": {
      "image/png": "[encoded data removed]",
      "text/plain": [
       "<Figure size 1080x576 with 1 Axes>"
      ]
     },
     "metadata": {
      "needs_background": "light"
     },
     "output_type": "display_data"
    }
   ],
   "source": [
    "plt.figure(figsize =(15,8))\n",
    "sns.barplot(x = 'age', y = 'day', data = df, hue = 'y')"
   ]
  },
  {
   "cell_type": "markdown",
   "id": "42b83e7b",
   "metadata": {},
   "source": [
    "age                int64\n",
    "job               object\n",
    "marital           object\n",
    "education_qual    object\n",
    "call_type         object\n",
    "day                int64\n",
    "mon               object\n",
    "dur                int64\n",
    "num_calls          int64\n",
    "prev_outcome      object\n",
    "y                 object"
   ]
  },
  {
   "cell_type": "code",
   "execution_count": 71,
   "id": "a1f12b78",
   "metadata": {},
   "outputs": [
    {
     "data": {
      "image/png": "[encoded data removed]",
      "text/plain": [
       "<Figure size 432x288 with 1 Axes>"
      ]
     },
     "metadata": {
      "needs_background": "light"
     },
     "output_type": "display_data"
    }
   ],
   "source": [
    "sns.barplot(x = 'age', y = 'y', data = df)\n",
    "plt.show()"
   ]
  },
  {
   "cell_type": "code",
   "execution_count": 72,
   "id": "1c17607c",
   "metadata": {},
   "outputs": [
    {
     "name": "stderr",
     "output_type": "stream",
     "text": [
      "<ipython-input-72-0bb0aed5ca1c>:1: SettingWithCopyWarning: \n",
      "A value is trying to be set on a copy of a slice from a DataFrame.\n",
      "Try using .loc[row_indexer,col_indexer] = value instead\n",
      "\n",
      "See the caveats in the documentation: https://pandas.pydata.org/pandas-docs/stable/user_guide/indexing.html#returning-a-view-versus-a-copy\n",
      "  df['target'] = df.y.copy()\n",
      "C:\\ProgramData\\Anaconda3\\lib\\site-packages\\pandas\\core\\generic.py:5494: SettingWithCopyWarning: \n",
      "A value is trying to be set on a copy of a slice from a DataFrame.\n",
      "Try using .loc[row_indexer,col_indexer] = value instead\n",
      "\n",
      "See the caveats in the documentation: https://pandas.pydata.org/pandas-docs/stable/user_guide/indexing.html#returning-a-view-versus-a-copy\n",
      "  self[name] = value\n"
     ]
    },
    {
     "data": {
      "text/html": [
       "<div>\n",
       "<style scoped>\n",
       "    .dataframe tbody tr th:only-of-type {\n",
       "        vertical-align: middle;\n",
       "    }\n",
       "\n",
       "    .dataframe tbody tr th {\n",
       "        vertical-align: top;\n",
       "    }\n",
       "\n",
       "    .dataframe thead th {\n",
       "        text-align: right;\n",
       "    }\n",
       "</style>\n",
       "<table border=\"1\" class=\"dataframe\">\n",
       "  <thead>\n",
       "    <tr style=\"text-align: right;\">\n",
       "      <th></th>\n",
       "      <th>age</th>\n",
       "      <th>job</th>\n",
       "      <th>marital</th>\n",
       "      <th>education_qual</th>\n",
       "      <th>call_type</th>\n",
       "      <th>day</th>\n",
       "      <th>mon</th>\n",
       "      <th>dur</th>\n",
       "      <th>num_calls</th>\n",
       "      <th>prev_outcome</th>\n",
       "      <th>y</th>\n",
       "      <th>target</th>\n",
       "    </tr>\n",
       "  </thead>\n",
       "  <tbody>\n",
       "    <tr>\n",
       "      <th>0</th>\n",
       "      <td>58</td>\n",
       "      <td>management</td>\n",
       "      <td>married</td>\n",
       "      <td>tertiary</td>\n",
       "      <td>unknown</td>\n",
       "      <td>5</td>\n",
       "      <td>may</td>\n",
       "      <td>261</td>\n",
       "      <td>1</td>\n",
       "      <td>unknown</td>\n",
       "      <td>no</td>\n",
       "      <td>0</td>\n",
       "    </tr>\n",
       "    <tr>\n",
       "      <th>1</th>\n",
       "      <td>44</td>\n",
       "      <td>technician</td>\n",
       "      <td>single</td>\n",
       "      <td>secondary</td>\n",
       "      <td>unknown</td>\n",
       "      <td>5</td>\n",
       "      <td>may</td>\n",
       "      <td>151</td>\n",
       "      <td>1</td>\n",
       "      <td>unknown</td>\n",
       "      <td>no</td>\n",
       "      <td>0</td>\n",
       "    </tr>\n",
       "    <tr>\n",
       "      <th>2</th>\n",
       "      <td>33</td>\n",
       "      <td>entrepreneur</td>\n",
       "      <td>married</td>\n",
       "      <td>secondary</td>\n",
       "      <td>unknown</td>\n",
       "      <td>5</td>\n",
       "      <td>may</td>\n",
       "      <td>76</td>\n",
       "      <td>1</td>\n",
       "      <td>unknown</td>\n",
       "      <td>no</td>\n",
       "      <td>0</td>\n",
       "    </tr>\n",
       "    <tr>\n",
       "      <th>3</th>\n",
       "      <td>47</td>\n",
       "      <td>blue-collar</td>\n",
       "      <td>married</td>\n",
       "      <td>unknown</td>\n",
       "      <td>unknown</td>\n",
       "      <td>5</td>\n",
       "      <td>may</td>\n",
       "      <td>92</td>\n",
       "      <td>1</td>\n",
       "      <td>unknown</td>\n",
       "      <td>no</td>\n",
       "      <td>0</td>\n",
       "    </tr>\n",
       "    <tr>\n",
       "      <th>4</th>\n",
       "      <td>33</td>\n",
       "      <td>unknown</td>\n",
       "      <td>single</td>\n",
       "      <td>unknown</td>\n",
       "      <td>unknown</td>\n",
       "      <td>5</td>\n",
       "      <td>may</td>\n",
       "      <td>198</td>\n",
       "      <td>1</td>\n",
       "      <td>unknown</td>\n",
       "      <td>no</td>\n",
       "      <td>0</td>\n",
       "    </tr>\n",
       "  </tbody>\n",
       "</table>\n",
       "</div>"
      ],
      "text/plain": [
       "   age           job  marital education_qual call_type  day  mon  dur  \\\n",
       "0   58    management  married       tertiary   unknown    5  may  261   \n",
       "1   44    technician   single      secondary   unknown    5  may  151   \n",
       "2   33  entrepreneur  married      secondary   unknown    5  may   76   \n",
       "3   47   blue-collar  married        unknown   unknown    5  may   92   \n",
       "4   33       unknown   single        unknown   unknown    5  may  198   \n",
       "\n",
       "   num_calls prev_outcome   y  target  \n",
       "0          1      unknown  no       0  \n",
       "1          1      unknown  no       0  \n",
       "2          1      unknown  no       0  \n",
       "3          1      unknown  no       0  \n",
       "4          1      unknown  no       0  "
      ]
     },
     "execution_count": 72,
     "metadata": {},
     "output_type": "execute_result"
    }
   ],
   "source": [
    "df['target'] = df.y.copy()\n",
    "df.target = df.target.map({'yes':1, 'no':0})\n",
    "df.head()"
   ]
  },
  {
   "cell_type": "code",
   "execution_count": 73,
   "id": "00c07b01",
   "metadata": {},
   "outputs": [
    {
     "data": {
      "image/png": "[encoded data removed]",
      "text/plain": [
       "<Figure size 720x576 with 1 Axes>"
      ]
     },
     "metadata": {
      "needs_background": "light"
     },
     "output_type": "display_data"
    }
   ],
   "source": [
    "plt.figure(figsize =(10,8))\n",
    "df.groupby('age')['target'].mean().plot(kind = 'bar')\n",
    "plt.show()"
   ]
  },
  {
   "cell_type": "code",
   "execution_count": 74,
   "id": "3166eb57",
   "metadata": {},
   "outputs": [
    {
     "data": {
      "image/png": "[encoded data removed]",
      "text/plain": [
       "<Figure size 432x288 with 1 Axes>"
      ]
     },
     "metadata": {
      "needs_background": "light"
     },
     "output_type": "display_data"
    },
    {
     "data": {
      "image/png": "[encoded data removed]",
      "text/plain": [
       "<Figure size 576x360 with 1 Axes>"
      ]
     },
     "metadata": {
      "needs_background": "light"
     },
     "output_type": "display_data"
    }
   ],
   "source": [
    "sns.barplot(x = 'day', y = 'y', data = df)\n",
    "plt.figure(figsize =(8,5))\n",
    "df.groupby('day')['target'].mean().plot(kind = 'bar')\n",
    "plt.show()"
   ]
  },
  {
   "cell_type": "code",
   "execution_count": 75,
   "id": "263d4291",
   "metadata": {},
   "outputs": [
    {
     "data": {
      "image/png": "[encoded data removed]",
      "text/plain": [
       "<Figure size 432x288 with 1 Axes>"
      ]
     },
     "metadata": {
      "needs_background": "light"
     },
     "output_type": "display_data"
    },
    {
     "data": {
      "image/png": "[encoded data removed]",
      "text/plain": [
       "<Figure size 1080x360 with 1 Axes>"
      ]
     },
     "metadata": {
      "needs_background": "light"
     },
     "output_type": "display_data"
    }
   ],
   "source": [
    "sns.barplot(x = 'dur', y = 'y', data = df)\n",
    "plt.figure(figsize =(15,5))\n",
    "df.groupby('dur')['target'].mean().plot(kind = 'bar')\n",
    "plt.show()"
   ]
  },
  {
   "cell_type": "code",
   "execution_count": 76,
   "id": "9036f0df",
   "metadata": {},
   "outputs": [
    {
     "data": {
      "image/png": "[encoded data removed]",
      "text/plain": [
       "<Figure size 432x288 with 1 Axes>"
      ]
     },
     "metadata": {
      "needs_background": "light"
     },
     "output_type": "display_data"
    },
    {
     "data": {
      "image/png": "[encoded data removed]",
      "text/plain": [
       "<Figure size 360x360 with 1 Axes>"
      ]
     },
     "metadata": {
      "needs_background": "light"
     },
     "output_type": "display_data"
    }
   ],
   "source": [
    "sns.barplot(x = 'num_calls', y = 'y', data = df)\n",
    "plt.figure(figsize =(5,5))\n",
    "df.groupby('num_calls')['target'].mean().plot(kind = 'bar')\n",
    "plt.show()"
   ]
  },
  {
   "cell_type": "code",
   "execution_count": 77,
   "id": "70199944",
   "metadata": {},
   "outputs": [],
   "source": [
    "# plt.pie('education_qual', data = df)\n",
    "# plt.show()"
   ]
  },
  {
   "cell_type": "code",
   "execution_count": 78,
   "id": "0f66d89c",
   "metadata": {},
   "outputs": [
    {
     "data": {
      "text/plain": [
       "age                int64\n",
       "job               object\n",
       "marital           object\n",
       "education_qual    object\n",
       "call_type         object\n",
       "day                int64\n",
       "mon               object\n",
       "dur                int64\n",
       "num_calls          int64\n",
       "prev_outcome      object\n",
       "y                 object\n",
       "target             int64\n",
       "dtype: object"
      ]
     },
     "execution_count": 78,
     "metadata": {},
     "output_type": "execute_result"
    }
   ],
   "source": [
    "df.dtypes"
   ]
  },
  {
   "cell_type": "code",
   "execution_count": 79,
   "id": "1fb2c30c",
   "metadata": {},
   "outputs": [],
   "source": [
    "# # create data\n",
    "# x = df.target\n",
    "# y1 = df.job.values\n",
    "# y1 = df.marital.values\n",
    "# y2 = df.education_qual.values\n",
    "# y3 = df.call_type.values\n",
    "# y4 = df.mon.values\n",
    "# y5 = df.prev_outcome.values\n",
    "# df.y.shape\n",
    "# y1.shape\n",
    "# x.shape\n",
    "# type(x)\n",
    "# # plot bars in stack manner\n",
    "# plt.bar(x, y1, color='r')\n",
    "# plt.bar(x, y2, bottom=y1, color='b')\n",
    "# plt.bar(x, y3, bottom=y1+y2, color='y')\n",
    "# plt.bar(x, y4, bottom=y1+y2+y3, color='m')\n",
    "# plt.bar(x, y5, bottom=y1+y2+y3+y4, color='c')\n",
    "# plt.bar(x, y6, bottom=y1+y2+y3+y4+y5, color='pink')\n",
    "# plt.xlabel(\"Teams\")\n",
    "# plt.ylabel(\"Score\")\n",
    "# plt.legend([\"job\", marital\", \"education_qual\", \"call_type\", \"mon\", \"prev_outcome\"])\n",
    "# plt.show()"
   ]
  },
  {
   "cell_type": "code",
   "execution_count": 80,
   "id": "6d6c24c0",
   "metadata": {},
   "outputs": [
    {
     "data": {
      "image/png": "[encoded data removed]",
      "text/plain": [
       "<Figure size 720x432 with 1 Axes>"
      ]
     },
     "metadata": {
      "needs_background": "light"
     },
     "output_type": "display_data"
    }
   ],
   "source": [
    "# Grouping data by the \"job\" column and calculating the count of \"loan sanctioned\" and \"loan not sanctioned\" cases\n",
    "grouped_data = df.groupby('job')['y'].value_counts().unstack().fillna(0)\n",
    "\n",
    "# Calculate the percentage of \"loan sanctioned\" and \"loan not sanctioned\" cases within each group\n",
    "grouped_data['Total'] = grouped_data['yes'] + grouped_data['no']\n",
    "grouped_data['Percentage_Sanctioned'] = (grouped_data['yes'] / grouped_data['Total']) * 100\n",
    "grouped_data['Percentage_Not_Sanctioned'] = (grouped_data['no'] / grouped_data['Total']) * 100\n",
    "\n",
    "# Plotting the stacked bar chart\n",
    "ax = grouped_data[['Percentage_Sanctioned', 'Percentage_Not_Sanctioned']].plot(kind='bar', stacked=True, figsize=(10, 6))\n",
    "plt.title('Loan Sanctioned vs. Not Sanctioned by Job')\n",
    "plt.xlabel('Job')\n",
    "plt.ylabel('Percentage')\n",
    "plt.legend(loc='upper right')\n",
    "# plt.show()\n",
    "# Displaying percentages on top of the bars\n",
    "for p in ax.patches:\n",
    "    width, height = p.get_width(), p.get_height()\n",
    "    x, y = p.get_xy()\n",
    "    ax.annotate(f'{height:.2f}%', (x + width / 2, y + height), ha='center', va='bottom')\n",
    "plt.show()"
   ]
  },
  {
   "cell_type": "code",
   "execution_count": 81,
   "id": "c4fd5f7a",
   "metadata": {},
   "outputs": [
    {
     "data": {
      "text/plain": [
       "age               0\n",
       "job               0\n",
       "marital           0\n",
       "education_qual    0\n",
       "call_type         0\n",
       "day               0\n",
       "mon               0\n",
       "dur               0\n",
       "num_calls         0\n",
       "prev_outcome      0\n",
       "y                 0\n",
       "target            0\n",
       "dtype: int64"
      ]
     },
     "execution_count": 81,
     "metadata": {},
     "output_type": "execute_result"
    }
   ],
   "source": [
    "df.isnull().sum()"
   ]
  },
  {
   "cell_type": "code",
   "execution_count": 82,
   "id": "8c5cfd3c",
   "metadata": {},
   "outputs": [
    {
     "data": {
      "image/png": "[encoded data removed]",
      "text/plain": [
       "<Figure size 720x432 with 1 Axes>"
      ]
     },
     "metadata": {
      "needs_background": "light"
     },
     "output_type": "display_data"
    }
   ],
   "source": [
    "grouped_data = df.groupby('marital')['y'].value_counts().unstack().fillna(0)\n",
    "grouped_data['Total'] = grouped_data['yes'] + grouped_data['no']\n",
    "grouped_data['Percentage_Sanctioned'] = (grouped_data['yes'] / grouped_data['Total']) * 100\n",
    "grouped_data['Percentage_Not_Sanctioned'] = (grouped_data['no'] / grouped_data['Total']) * 100\n",
    "ax = grouped_data[['Percentage_Sanctioned', 'Percentage_Not_Sanctioned']].plot(kind='bar', stacked=True, figsize=(10, 6))\n",
    "plt.title('Loan Sanctioned vs. Not Sanctioned by Marital')\n",
    "plt.xlabel('Marital Status')\n",
    "plt.ylabel('Percentage')\n",
    "plt.legend(loc='upper right')\n",
    "# plt.show()\n",
    "# Displaying percentages on top of the bars\n",
    "for p in ax.patches:\n",
    "    width, height = p.get_width(), p.get_height()\n",
    "    x, y = p.get_xy()\n",
    "    ax.annotate(f'{height:.2f}%', (x + width / 2, y + height), ha='center', va='bottom')\n",
    "plt.show()"
   ]
  },
  {
   "cell_type": "code",
   "execution_count": 83,
   "id": "8c0e3220",
   "metadata": {},
   "outputs": [
    {
     "data": {
      "text/plain": [
       "0"
      ]
     },
     "execution_count": 83,
     "metadata": {},
     "output_type": "execute_result"
    }
   ],
   "source": [
    "df.job.isnull().sum()"
   ]
  },
  {
   "cell_type": "code",
   "execution_count": 84,
   "id": "256105c2",
   "metadata": {},
   "outputs": [
    {
     "data": {
      "image/png": "[encoded data removed]",
      "text/plain": [
       "<Figure size 720x432 with 1 Axes>"
      ]
     },
     "metadata": {
      "needs_background": "light"
     },
     "output_type": "display_data"
    }
   ],
   "source": [
    "grouped_data = df.groupby('education_qual')['y'].value_counts().unstack().fillna(0)\n",
    "grouped_data['Total'] = grouped_data['yes'] + grouped_data['no']\n",
    "grouped_data['Percentage_Sanctioned'] = (grouped_data['yes'] / grouped_data['Total']) * 100\n",
    "grouped_data['Percentage_Not_Sanctioned'] = (grouped_data['no'] / grouped_data['Total']) * 100\n",
    "ax = grouped_data[['Percentage_Sanctioned', 'Percentage_Not_Sanctioned']].plot(kind='bar', stacked=True, figsize=(10, 6))\n",
    "plt.title('Loan Sanctioned vs. Not Sanctioned by Educational Qualification')\n",
    "plt.xlabel('Educational Qualification')\n",
    "plt.ylabel('Percentage')\n",
    "plt.legend(loc='upper right')\n",
    "for p in ax.patches:\n",
    "    width, height = p.get_width(), p.get_height()\n",
    "    x, y = p.get_xy()\n",
    "    ax.annotate(f'{height:.2f}%', (x + width / 2, y + height), ha='center', va='bottom')\n",
    "plt.show()"
   ]
  },
  {
   "cell_type": "code",
   "execution_count": 85,
   "id": "0a757640",
   "metadata": {},
   "outputs": [
    {
     "data": {
      "image/png": "[encoded data removed]",
      "text/plain": [
       "<Figure size 720x432 with 1 Axes>"
      ]
     },
     "metadata": {
      "needs_background": "light"
     },
     "output_type": "display_data"
    }
   ],
   "source": [
    "grouped_data = df.groupby('call_type')['y'].value_counts().unstack().fillna(0)\n",
    "grouped_data['Total'] = grouped_data['yes'] + grouped_data['no']\n",
    "grouped_data['Percentage_Sanctioned'] = (grouped_data['yes'] / grouped_data['Total']) * 100\n",
    "grouped_data['Percentage_Not_Sanctioned'] = (grouped_data['no'] / grouped_data['Total']) * 100\n",
    "ax = grouped_data[['Percentage_Sanctioned', 'Percentage_Not_Sanctioned']].plot(kind='bar', stacked=True, figsize=(10, 6))\n",
    "plt.title('Loan Sanctioned vs. Not Sanctioned by Call Type')\n",
    "plt.xlabel('Call Type')\n",
    "plt.ylabel('Percentage')\n",
    "plt.legend(loc='upper right')\n",
    "for p in ax.patches:\n",
    "    width, height = p.get_width(), p.get_height()\n",
    "    x, y = p.get_xy()\n",
    "    ax.annotate(f'{height:.2f}%', (x + width / 2, y + height), ha='center', va='bottom')\n",
    "plt.show()"
   ]
  },
  {
   "cell_type": "code",
   "execution_count": 86,
   "id": "d82ece8d",
   "metadata": {},
   "outputs": [
    {
     "data": {
      "image/png": "[encoded data removed]",
      "text/plain": [
       "<Figure size 720x432 with 1 Axes>"
      ]
     },
     "metadata": {
      "needs_background": "light"
     },
     "output_type": "display_data"
    }
   ],
   "source": [
    "grouped_data = df.groupby('mon')['y'].value_counts().unstack().fillna(0)\n",
    "grouped_data['Total'] = grouped_data['yes'] + grouped_data['no']\n",
    "grouped_data['Percentage_Sanctioned'] = (grouped_data['yes'] / grouped_data['Total']) * 100\n",
    "grouped_data['Percentage_Not_Sanctioned'] = (grouped_data['no'] / grouped_data['Total']) * 100\n",
    "ax = grouped_data[['Percentage_Sanctioned', 'Percentage_Not_Sanctioned']].plot(kind='bar', stacked=True, figsize=(10, 6))\n",
    "plt.title('Loan Sanctioned vs. Not Sanctioned by Month')\n",
    "plt.xlabel('Month')\n",
    "plt.ylabel('Percentage')\n",
    "plt.legend(loc='upper right')\n",
    "for p in ax.patches:\n",
    "    width, height = p.get_width(), p.get_height()\n",
    "    x, y = p.get_xy()\n",
    "    ax.annotate(f'{height:.2f}%', (x + width / 2, y + height), ha='center', va='bottom')\n",
    "plt.show()"
   ]
  },
  {
   "cell_type": "code",
   "execution_count": 87,
   "id": "4f7cc3a1",
   "metadata": {},
   "outputs": [
    {
     "data": {
      "image/png": "[encoded data removed]",
      "text/plain": [
       "<Figure size 720x432 with 1 Axes>"
      ]
     },
     "metadata": {
      "needs_background": "light"
     },
     "output_type": "display_data"
    }
   ],
   "source": [
    "grouped_data = df.groupby('prev_outcome')['y'].value_counts().unstack().fillna(0)\n",
    "grouped_data['Total'] = grouped_data['yes'] + grouped_data['no']\n",
    "grouped_data['Percentage_Sanctioned'] = (grouped_data['yes'] / grouped_data['Total']) * 100\n",
    "grouped_data['Percentage_Not_Sanctioned'] = (grouped_data['no'] / grouped_data['Total']) * 100\n",
    "ax = grouped_data[['Percentage_Sanctioned', 'Percentage_Not_Sanctioned']].plot(kind='bar', stacked=True, figsize=(10, 6))\n",
    "plt.title('Loan Sanctioned vs. Not Sanctioned by Previous Outcome')\n",
    "plt.xlabel('Previous Outcome')\n",
    "plt.ylabel('Percentage')\n",
    "plt.legend(loc='upper right')\n",
    "for p in ax.patches:\n",
    "    width, height = p.get_width(), p.get_height()\n",
    "    x, y = p.get_xy()\n",
    "    ax.annotate(f'{height:.2f}%', (x + width / 2, y + height), ha='center', va='bottom')\n",
    "plt.show()"
   ]
  },
  {
   "cell_type": "code",
   "execution_count": 88,
   "id": "18d47f87",
   "metadata": {},
   "outputs": [
    {
     "data": {
      "text/plain": [
       "age               0\n",
       "job               0\n",
       "marital           0\n",
       "education_qual    0\n",
       "call_type         0\n",
       "day               0\n",
       "mon               0\n",
       "dur               0\n",
       "num_calls         0\n",
       "prev_outcome      0\n",
       "y                 0\n",
       "target            0\n",
       "dtype: int64"
      ]
     },
     "execution_count": 88,
     "metadata": {},
     "output_type": "execute_result"
    }
   ],
   "source": [
    "df.isnull().sum()"
   ]
  },
  {
   "cell_type": "markdown",
   "id": "564ba936",
   "metadata": {},
   "source": [
    "## Encode"
   ]
  },
  {
   "cell_type": "code",
   "execution_count": 89,
   "id": "42702842",
   "metadata": {},
   "outputs": [
    {
     "data": {
      "text/html": [
       "<div>\n",
       "<style scoped>\n",
       "    .dataframe tbody tr th:only-of-type {\n",
       "        vertical-align: middle;\n",
       "    }\n",
       "\n",
       "    .dataframe tbody tr th {\n",
       "        vertical-align: top;\n",
       "    }\n",
       "\n",
       "    .dataframe thead th {\n",
       "        text-align: right;\n",
       "    }\n",
       "</style>\n",
       "<table border=\"1\" class=\"dataframe\">\n",
       "  <thead>\n",
       "    <tr style=\"text-align: right;\">\n",
       "      <th></th>\n",
       "      <th>age</th>\n",
       "      <th>job</th>\n",
       "      <th>marital</th>\n",
       "      <th>education_qual</th>\n",
       "      <th>call_type</th>\n",
       "      <th>day</th>\n",
       "      <th>mon</th>\n",
       "      <th>dur</th>\n",
       "      <th>num_calls</th>\n",
       "      <th>prev_outcome</th>\n",
       "      <th>y</th>\n",
       "      <th>target</th>\n",
       "    </tr>\n",
       "  </thead>\n",
       "  <tbody>\n",
       "    <tr>\n",
       "      <th>0</th>\n",
       "      <td>58</td>\n",
       "      <td>management</td>\n",
       "      <td>married</td>\n",
       "      <td>tertiary</td>\n",
       "      <td>unknown</td>\n",
       "      <td>5</td>\n",
       "      <td>may</td>\n",
       "      <td>261</td>\n",
       "      <td>1</td>\n",
       "      <td>unknown</td>\n",
       "      <td>no</td>\n",
       "      <td>0</td>\n",
       "    </tr>\n",
       "    <tr>\n",
       "      <th>1</th>\n",
       "      <td>44</td>\n",
       "      <td>technician</td>\n",
       "      <td>single</td>\n",
       "      <td>secondary</td>\n",
       "      <td>unknown</td>\n",
       "      <td>5</td>\n",
       "      <td>may</td>\n",
       "      <td>151</td>\n",
       "      <td>1</td>\n",
       "      <td>unknown</td>\n",
       "      <td>no</td>\n",
       "      <td>0</td>\n",
       "    </tr>\n",
       "    <tr>\n",
       "      <th>2</th>\n",
       "      <td>33</td>\n",
       "      <td>entrepreneur</td>\n",
       "      <td>married</td>\n",
       "      <td>secondary</td>\n",
       "      <td>unknown</td>\n",
       "      <td>5</td>\n",
       "      <td>may</td>\n",
       "      <td>76</td>\n",
       "      <td>1</td>\n",
       "      <td>unknown</td>\n",
       "      <td>no</td>\n",
       "      <td>0</td>\n",
       "    </tr>\n",
       "    <tr>\n",
       "      <th>3</th>\n",
       "      <td>47</td>\n",
       "      <td>blue-collar</td>\n",
       "      <td>married</td>\n",
       "      <td>unknown</td>\n",
       "      <td>unknown</td>\n",
       "      <td>5</td>\n",
       "      <td>may</td>\n",
       "      <td>92</td>\n",
       "      <td>1</td>\n",
       "      <td>unknown</td>\n",
       "      <td>no</td>\n",
       "      <td>0</td>\n",
       "    </tr>\n",
       "    <tr>\n",
       "      <th>4</th>\n",
       "      <td>33</td>\n",
       "      <td>unknown</td>\n",
       "      <td>single</td>\n",
       "      <td>unknown</td>\n",
       "      <td>unknown</td>\n",
       "      <td>5</td>\n",
       "      <td>may</td>\n",
       "      <td>198</td>\n",
       "      <td>1</td>\n",
       "      <td>unknown</td>\n",
       "      <td>no</td>\n",
       "      <td>0</td>\n",
       "    </tr>\n",
       "    <tr>\n",
       "      <th>...</th>\n",
       "      <td>...</td>\n",
       "      <td>...</td>\n",
       "      <td>...</td>\n",
       "      <td>...</td>\n",
       "      <td>...</td>\n",
       "      <td>...</td>\n",
       "      <td>...</td>\n",
       "      <td>...</td>\n",
       "      <td>...</td>\n",
       "      <td>...</td>\n",
       "      <td>...</td>\n",
       "      <td>...</td>\n",
       "    </tr>\n",
       "    <tr>\n",
       "      <th>45206</th>\n",
       "      <td>51</td>\n",
       "      <td>technician</td>\n",
       "      <td>married</td>\n",
       "      <td>tertiary</td>\n",
       "      <td>cellular</td>\n",
       "      <td>17</td>\n",
       "      <td>nov</td>\n",
       "      <td>977</td>\n",
       "      <td>3</td>\n",
       "      <td>unknown</td>\n",
       "      <td>yes</td>\n",
       "      <td>1</td>\n",
       "    </tr>\n",
       "    <tr>\n",
       "      <th>45207</th>\n",
       "      <td>70</td>\n",
       "      <td>retired</td>\n",
       "      <td>divorced</td>\n",
       "      <td>primary</td>\n",
       "      <td>cellular</td>\n",
       "      <td>17</td>\n",
       "      <td>nov</td>\n",
       "      <td>456</td>\n",
       "      <td>2</td>\n",
       "      <td>unknown</td>\n",
       "      <td>yes</td>\n",
       "      <td>1</td>\n",
       "    </tr>\n",
       "    <tr>\n",
       "      <th>45208</th>\n",
       "      <td>70</td>\n",
       "      <td>retired</td>\n",
       "      <td>married</td>\n",
       "      <td>secondary</td>\n",
       "      <td>cellular</td>\n",
       "      <td>17</td>\n",
       "      <td>nov</td>\n",
       "      <td>1127</td>\n",
       "      <td>5</td>\n",
       "      <td>success</td>\n",
       "      <td>yes</td>\n",
       "      <td>1</td>\n",
       "    </tr>\n",
       "    <tr>\n",
       "      <th>45209</th>\n",
       "      <td>57</td>\n",
       "      <td>blue-collar</td>\n",
       "      <td>married</td>\n",
       "      <td>secondary</td>\n",
       "      <td>telephone</td>\n",
       "      <td>17</td>\n",
       "      <td>nov</td>\n",
       "      <td>508</td>\n",
       "      <td>4</td>\n",
       "      <td>unknown</td>\n",
       "      <td>no</td>\n",
       "      <td>0</td>\n",
       "    </tr>\n",
       "    <tr>\n",
       "      <th>45210</th>\n",
       "      <td>37</td>\n",
       "      <td>entrepreneur</td>\n",
       "      <td>married</td>\n",
       "      <td>secondary</td>\n",
       "      <td>cellular</td>\n",
       "      <td>17</td>\n",
       "      <td>nov</td>\n",
       "      <td>361</td>\n",
       "      <td>2</td>\n",
       "      <td>other</td>\n",
       "      <td>no</td>\n",
       "      <td>0</td>\n",
       "    </tr>\n",
       "  </tbody>\n",
       "</table>\n",
       "<p>45205 rows × 12 columns</p>\n",
       "</div>"
      ],
      "text/plain": [
       "       age           job   marital education_qual  call_type  day  mon   dur  \\\n",
       "0       58    management   married       tertiary    unknown    5  may   261   \n",
       "1       44    technician    single      secondary    unknown    5  may   151   \n",
       "2       33  entrepreneur   married      secondary    unknown    5  may    76   \n",
       "3       47   blue-collar   married        unknown    unknown    5  may    92   \n",
       "4       33       unknown    single        unknown    unknown    5  may   198   \n",
       "...    ...           ...       ...            ...        ...  ...  ...   ...   \n",
       "45206   51    technician   married       tertiary   cellular   17  nov   977   \n",
       "45207   70       retired  divorced        primary   cellular   17  nov   456   \n",
       "45208   70       retired   married      secondary   cellular   17  nov  1127   \n",
       "45209   57   blue-collar   married      secondary  telephone   17  nov   508   \n",
       "45210   37  entrepreneur   married      secondary   cellular   17  nov   361   \n",
       "\n",
       "       num_calls prev_outcome    y  target  \n",
       "0              1      unknown   no       0  \n",
       "1              1      unknown   no       0  \n",
       "2              1      unknown   no       0  \n",
       "3              1      unknown   no       0  \n",
       "4              1      unknown   no       0  \n",
       "...          ...          ...  ...     ...  \n",
       "45206          3      unknown  yes       1  \n",
       "45207          2      unknown  yes       1  \n",
       "45208          5      success  yes       1  \n",
       "45209          4      unknown   no       0  \n",
       "45210          2        other   no       0  \n",
       "\n",
       "[45205 rows x 12 columns]"
      ]
     },
     "execution_count": 89,
     "metadata": {},
     "output_type": "execute_result"
    }
   ],
   "source": [
    "df"
   ]
  },
  {
   "cell_type": "code",
   "execution_count": 90,
   "id": "c1c3826f",
   "metadata": {},
   "outputs": [
    {
     "data": {
      "text/plain": [
       "(blue-collar      9730\n",
       " management       9457\n",
       " technician       7596\n",
       " admin.           5170\n",
       " services         4153\n",
       " retired          2264\n",
       " self-employed    1579\n",
       " entrepreneur     1487\n",
       " unemployed       1303\n",
       " housemaid        1240\n",
       " student           938\n",
       " unknown           288\n",
       " Name: job, dtype: int64,\n",
       " married     27210\n",
       " single      12788\n",
       " divorced     5207\n",
       " Name: marital, dtype: int64,\n",
       " secondary    23199\n",
       " tertiary     13299\n",
       " primary       6850\n",
       " unknown       1857\n",
       " Name: education_qual, dtype: int64,\n",
       " cellular     29282\n",
       " unknown      13017\n",
       " telephone     2906\n",
       " Name: call_type, dtype: int64,\n",
       " may    13765\n",
       " jul     6894\n",
       " aug     6245\n",
       " jun     5339\n",
       " nov     3970\n",
       " apr     2932\n",
       " feb     2649\n",
       " jan     1403\n",
       " oct      738\n",
       " sep      579\n",
       " mar      477\n",
       " dec      214\n",
       " Name: mon, dtype: int64,\n",
       " unknown    36953\n",
       " failure     4901\n",
       " other       1840\n",
       " success     1511\n",
       " Name: prev_outcome, dtype: int64)"
      ]
     },
     "execution_count": 90,
     "metadata": {},
     "output_type": "execute_result"
    }
   ],
   "source": [
    "df.job.value_counts(), df.marital.value_counts(), df.education_qual.value_counts(), df.call_type.value_counts(), df.mon.value_counts(), df.prev_outcome.value_counts()"
   ]
  },
  {
   "cell_type": "code",
   "execution_count": 91,
   "id": "741bfe60",
   "metadata": {},
   "outputs": [
    {
     "data": {
      "text/plain": [
       "0"
      ]
     },
     "execution_count": 91,
     "metadata": {},
     "output_type": "execute_result"
    }
   ],
   "source": [
    "df.job.isnull().sum()"
   ]
  },
  {
   "cell_type": "markdown",
   "id": "d9b6ed19",
   "metadata": {},
   "source": [
    "## Encode"
   ]
  },
  {
   "cell_type": "code",
   "execution_count": 92,
   "id": "2c8aa863",
   "metadata": {},
   "outputs": [
    {
     "name": "stderr",
     "output_type": "stream",
     "text": [
      "C:\\ProgramData\\Anaconda3\\lib\\site-packages\\pandas\\core\\generic.py:5494: SettingWithCopyWarning: \n",
      "A value is trying to be set on a copy of a slice from a DataFrame.\n",
      "Try using .loc[row_indexer,col_indexer] = value instead\n",
      "\n",
      "See the caveats in the documentation: https://pandas.pydata.org/pandas-docs/stable/user_guide/indexing.html#returning-a-view-versus-a-copy\n",
      "  self[name] = value\n"
     ]
    }
   ],
   "source": [
    "df.job = df.job.map({'blue-collar':0, 'entrepreneur':1, 'housemaid':2, 'services':3, 'technician':4, 'unknown':5, 'self-employed':6, 'admin.':7, 'management':8, 'unemployed':9, 'retired':10, 'student':11})\n",
    "df.marital = df.marital.map({'married':0, 'divorced':1, 'single':2})\n",
    "df.education_qual = df.education_qual.map({'primary':0,'secondary':1, 'unknown':2, 'tertiary':3})\n",
    "df.call_type = df.call_type.map({'unknown':0, 'telephone':1, 'cellular':2})\n",
    "df.mon = df.mon.map({'may':0, 'jul':1, 'jan':2, 'nov':3, 'jun':4, 'aug':5, 'feb':6, 'apr':7, 'oct':8, 'sep':9, 'dec':10, 'mar':11})\n",
    "df.prev_outcome = df.prev_outcome.map({'unknown':0, 'failure':1, 'other':2, 'success':3})"
   ]
  },
  {
   "cell_type": "code",
   "execution_count": 93,
   "id": "0484bcd8",
   "metadata": {},
   "outputs": [
    {
     "data": {
      "text/plain": [
       "0     9730\n",
       "8     9457\n",
       "4     7596\n",
       "7     5170\n",
       "3     4153\n",
       "10    2264\n",
       "6     1579\n",
       "1     1487\n",
       "9     1303\n",
       "2     1240\n",
       "11     938\n",
       "5      288\n",
       "Name: job, dtype: int64"
      ]
     },
     "execution_count": 93,
     "metadata": {},
     "output_type": "execute_result"
    }
   ],
   "source": [
    "df.job.value_counts()"
   ]
  },
  {
   "cell_type": "code",
   "execution_count": 94,
   "id": "37f0fae0",
   "metadata": {},
   "outputs": [
    {
     "data": {
      "text/plain": [
       "age               0\n",
       "job               0\n",
       "marital           0\n",
       "education_qual    0\n",
       "call_type         0\n",
       "day               0\n",
       "mon               0\n",
       "dur               0\n",
       "num_calls         0\n",
       "prev_outcome      0\n",
       "y                 0\n",
       "target            0\n",
       "dtype: int64"
      ]
     },
     "execution_count": 94,
     "metadata": {},
     "output_type": "execute_result"
    }
   ],
   "source": [
    "df.isnull().sum()"
   ]
  },
  {
   "cell_type": "code",
   "execution_count": 95,
   "id": "6713dd56",
   "metadata": {},
   "outputs": [],
   "source": [
    "del df['y']"
   ]
  },
  {
   "cell_type": "code",
   "execution_count": 96,
   "id": "782adafd",
   "metadata": {},
   "outputs": [
    {
     "data": {
      "text/plain": [
       "age               0\n",
       "job               0\n",
       "marital           0\n",
       "education_qual    0\n",
       "call_type         0\n",
       "day               0\n",
       "mon               0\n",
       "dur               0\n",
       "num_calls         0\n",
       "prev_outcome      0\n",
       "target            0\n",
       "dtype: int64"
      ]
     },
     "execution_count": 96,
     "metadata": {},
     "output_type": "execute_result"
    }
   ],
   "source": [
    "df.isnull().sum()"
   ]
  },
  {
   "cell_type": "markdown",
   "id": "1c580329",
   "metadata": {},
   "source": [
    "## Split"
   ]
  },
  {
   "cell_type": "code",
   "execution_count": 97,
   "id": "93a1e4f9",
   "metadata": {},
   "outputs": [],
   "source": [
    "X = df.iloc[:,:-1]\n",
    "y = df.iloc[:,-1]\n",
    "from sklearn.model_selection import train_test_split\n",
    "X_train, X_test, y_train, y_test = train_test_split(X, y, test_size = 0.2, random_state = 111)"
   ]
  },
  {
   "cell_type": "markdown",
   "id": "1c199b32",
   "metadata": {},
   "source": [
    "## Balance data using SMOTEENN"
   ]
  },
  {
   "cell_type": "code",
   "execution_count": 98,
   "id": "9377fa2c",
   "metadata": {},
   "outputs": [
    {
     "name": "stdout",
     "output_type": "stream",
     "text": [
      "Requirement already satisfied: imblearn in c:\\programdata\\anaconda3\\lib\\site-packages (0.0)\n",
      "Requirement already satisfied: imbalanced-learn in c:\\programdata\\anaconda3\\lib\\site-packages (from imblearn) (0.11.0)\n",
      "Requirement already satisfied: numpy>=1.17.3 in c:\\programdata\\anaconda3\\lib\\site-packages (from imbalanced-learn->imblearn) (1.20.1)\n",
      "Requirement already satisfied: scipy>=1.5.0 in c:\\programdata\\anaconda3\\lib\\site-packages (from imbalanced-learn->imblearn) (1.6.2)\n",
      "Requirement already satisfied: threadpoolctl>=2.0.0 in c:\\programdata\\anaconda3\\lib\\site-packages (from imbalanced-learn->imblearn) (2.1.0)\n",
      "Requirement already satisfied: scikit-learn>=1.0.2 in c:\\users\\prath\\appdata\\roaming\\python\\python38\\site-packages (from imbalanced-learn->imblearn) (1.3.0)\n",
      "Requirement already satisfied: joblib>=1.1.1 in c:\\users\\prath\\appdata\\roaming\\python\\python38\\site-packages (from imbalanced-learn->imblearn) (1.3.1)\n",
      "Note: you may need to restart the kernel to use updated packages.\n"
     ]
    }
   ],
   "source": [
    "pip install imblearn"
   ]
  },
  {
   "cell_type": "code",
   "execution_count": 99,
   "id": "9b6a9fa4",
   "metadata": {},
   "outputs": [],
   "source": [
    "import imblearn"
   ]
  },
  {
   "cell_type": "code",
   "execution_count": 100,
   "id": "cdc7b219",
   "metadata": {},
   "outputs": [
    {
     "name": "stdout",
     "output_type": "stream",
     "text": [
      "Counter({0: 31949, 1: 4215})\n",
      "Counter({1: 30537, 0: 23449})\n"
     ]
    }
   ],
   "source": [
    "from imblearn.combine import SMOTEENN\n",
    "from collections import Counter\n",
    "\n",
    "before_count = Counter(y_train)\n",
    "print(before_count)\n",
    "smt = SMOTEENN(sampling_strategy = 'all')\n",
    "X_smt, y_smt = smt.fit_resample(X_train, y_train)\n",
    "after_count = Counter(y_smt)\n",
    "print(after_count)"
   ]
  },
  {
   "cell_type": "code",
   "execution_count": 101,
   "id": "74b118e2",
   "metadata": {},
   "outputs": [
    {
     "data": {
      "text/plain": [
       "1    0.565647\n",
       "0    0.434353\n",
       "Name: target, dtype: float64"
      ]
     },
     "execution_count": 101,
     "metadata": {},
     "output_type": "execute_result"
    }
   ],
   "source": [
    "y_smt.value_counts(1)"
   ]
  },
  {
   "cell_type": "code",
   "execution_count": 102,
   "id": "50010b48",
   "metadata": {},
   "outputs": [
    {
     "data": {
      "text/plain": [
       "0    31949\n",
       "1     4215\n",
       "Name: target, dtype: int64"
      ]
     },
     "execution_count": 102,
     "metadata": {},
     "output_type": "execute_result"
    }
   ],
   "source": [
    "y_train.value_counts()"
   ]
  },
  {
   "cell_type": "code",
   "execution_count": 103,
   "id": "c4dffc46",
   "metadata": {},
   "outputs": [
    {
     "data": {
      "text/plain": [
       "0    0.883448\n",
       "1    0.116552\n",
       "Name: target, dtype: float64"
      ]
     },
     "execution_count": 103,
     "metadata": {},
     "output_type": "execute_result"
    }
   ],
   "source": [
    "y_train.value_counts(1)"
   ]
  },
  {
   "cell_type": "markdown",
   "id": "78f2d9e1",
   "metadata": {},
   "source": [
    "## Scaling"
   ]
  },
  {
   "cell_type": "code",
   "execution_count": 104,
   "id": "da01a630",
   "metadata": {},
   "outputs": [],
   "source": [
    "from sklearn.preprocessing import StandardScaler   # standar sclaing\n",
    "scaler = StandardScaler()   # initialize to a variable\n",
    "scaler.fit(X_smt)  #  we are finding the values of mean and SD from the training data.\n",
    "X_train_scaled = scaler.transform(X_smt)  # fit (mean,sd) and then transform the training data.\n",
    "X_test_scaled = scaler.transform(X_test)"
   ]
  },
  {
   "cell_type": "markdown",
   "id": "4cc5a89a",
   "metadata": {},
   "source": [
    "## Logistic Regression"
   ]
  },
  {
   "cell_type": "code",
   "execution_count": 105,
   "id": "5a33b1a0",
   "metadata": {},
   "outputs": [
    {
     "data": {
      "text/plain": [
       "0.8814692698106916"
      ]
     },
     "execution_count": 105,
     "metadata": {},
     "output_type": "execute_result"
    }
   ],
   "source": [
    "from sklearn.linear_model import LogisticRegression\n",
    "from sklearn.metrics import f1_score\n",
    "\n",
    "lr = LogisticRegression()\n",
    "lr.fit(X_train_scaled,y_smt)\n",
    "lr.score(X_train_scaled,y_smt)"
   ]
  },
  {
   "cell_type": "code",
   "execution_count": 106,
   "id": "02a8f61b",
   "metadata": {},
   "outputs": [
    {
     "data": {
      "text/plain": [
       "array([[-0.145436  ,  0.57407152, -0.03895706, -0.11496966,  0.38635572,\n",
       "        -0.05253511,  1.101003  ,  4.14332473, -1.00113917,  0.62378612]])"
      ]
     },
     "execution_count": 106,
     "metadata": {},
     "output_type": "execute_result"
    }
   ],
   "source": [
    "lr.coef_"
   ]
  },
  {
   "cell_type": "code",
   "execution_count": 107,
   "id": "507ad482",
   "metadata": {},
   "outputs": [],
   "source": [
    "y_pred = lr.predict(X_test_scaled)"
   ]
  },
  {
   "cell_type": "code",
   "execution_count": 108,
   "id": "488c8c41",
   "metadata": {},
   "outputs": [
    {
     "name": "stdout",
     "output_type": "stream",
     "text": [
      "0.7480367216015927\n",
      "[[5794 2173]\n",
      " [ 105  969]]\n"
     ]
    },
    {
     "data": {
      "text/plain": [
       "0.4596774193548387"
      ]
     },
     "execution_count": 108,
     "metadata": {},
     "output_type": "execute_result"
    }
   ],
   "source": [
    "from sklearn.metrics import accuracy_score, confusion_matrix, f1_score\n",
    "print(lr.score(X_test_scaled, y_test))\n",
    "print(confusion_matrix(y_test, y_pred))\n",
    "f1_score(y_test, y_pred)"
   ]
  },
  {
   "cell_type": "code",
   "execution_count": 109,
   "id": "2fdaf739",
   "metadata": {},
   "outputs": [
    {
     "data": {
      "text/plain": [
       "Index(['age', 'job', 'marital', 'education_qual', 'call_type', 'day', 'mon',\n",
       "       'dur', 'num_calls', 'prev_outcome'],\n",
       "      dtype='object')"
      ]
     },
     "execution_count": 109,
     "metadata": {},
     "output_type": "execute_result"
    }
   ],
   "source": [
    "X_smt.columns"
   ]
  },
  {
   "cell_type": "markdown",
   "id": "df00bc09",
   "metadata": {},
   "source": [
    "## K-NN"
   ]
  },
  {
   "cell_type": "code",
   "execution_count": 110,
   "id": "e72c0975",
   "metadata": {},
   "outputs": [
    {
     "name": "stdout",
     "output_type": "stream",
     "text": [
      "K : 1, training score : 1.0 and cross-val score : 0.9441895467173431\n",
      "K : 2, training score : 0.9827918349201645 and cross-val score : 0.9331312469114359\n",
      "K : 3, training score : 0.9692142407290779 and cross-val score : 0.938817828229824\n",
      "K : 4, training score : 0.9637128144333716 and cross-val score : 0.9336869465418409\n",
      "K : 5, training score : 0.9567850924313711 and cross-val score : 0.9342239149167979\n",
      "K : 6, training score : 0.9534879413181195 and cross-val score : 0.9312973509770618\n",
      "K : 7, training score : 0.9494128107287074 and cross-val score : 0.9310934757242725\n",
      "K : 8, training score : 0.9463379394657875 and cross-val score : 0.9284076902526307\n",
      "K : 9, training score : 0.9435594413366428 and cross-val score : 0.9284445900366739\n",
      "K : 10, training score : 0.9419479124217389 and cross-val score : 0.926740519304928\n",
      "K : 12, training score : 0.9385581447041825 and cross-val score : 0.9250919766748347\n",
      "K : 13, training score : 0.9370948023561664 and cross-val score : 0.9255364519701306\n",
      "K : 14, training score : 0.9354091801578187 and cross-val score : 0.9240917159676011\n",
      "K : 15, training score : 0.9350942837031823 and cross-val score : 0.9238323366319878\n",
      "K : 16, training score : 0.9332604749379468 and cross-val score : 0.922109689051552\n",
      "K : 17, training score : 0.9328900085207276 and cross-val score : 0.9222208310363899\n",
      "K : 18, training score : 0.9312784796058238 and cross-val score : 0.9198869419988511\n",
      "K : 19, training score : 0.9305560700922462 and cross-val score : 0.9203870105897645\n",
      "K : 20, training score : 0.9286481680435669 and cross-val score : 0.9197757554076164\n",
      "K : 25, training score : 0.926536509465417 and cross-val score : 0.91818269970404\n",
      "K : 30, training score : 0.9227392286889193 and cross-val score : 0.9149040952172266\n",
      "K : 50, training score : 0.9147742007187049 and cross-val score : 0.9091433574795766\n"
     ]
    },
    {
     "data": {
      "text/html": [
       "<style>#sk-container-id-1 {color: black;}#sk-container-id-1 pre{padding: 0;}#sk-container-id-1 div.sk-toggleable {background-color: white;}#sk-container-id-1 label.sk-toggleable__label {cursor: pointer;display: block;width: 100%;margin-bottom: 0;padding: 0.3em;box-sizing: border-box;text-align: center;}#sk-container-id-1 label.sk-toggleable__label-arrow:before {content: \"▸\";float: left;margin-right: 0.25em;color: #696969;}#sk-container-id-1 label.sk-toggleable__label-arrow:hover:before {color: black;}#sk-container-id-1 div.sk-estimator:hover label.sk-toggleable__label-arrow:before {color: black;}#sk-container-id-1 div.sk-toggleable__content {max-height: 0;max-width: 0;overflow: hidden;text-align: left;background-color: #f0f8ff;}#sk-container-id-1 div.sk-toggleable__content pre {margin: 0.2em;color: black;border-radius: 0.25em;background-color: #f0f8ff;}#sk-container-id-1 input.sk-toggleable__control:checked~div.sk-toggleable__content {max-height: 200px;max-width: 100%;overflow: auto;}#sk-container-id-1 input.sk-toggleable__control:checked~label.sk-toggleable__label-arrow:before {content: \"▾\";}#sk-container-id-1 div.sk-estimator input.sk-toggleable__control:checked~label.sk-toggleable__label {background-color: #d4ebff;}#sk-container-id-1 div.sk-label input.sk-toggleable__control:checked~label.sk-toggleable__label {background-color: #d4ebff;}#sk-container-id-1 input.sk-hidden--visually {border: 0;clip: rect(1px 1px 1px 1px);clip: rect(1px, 1px, 1px, 1px);height: 1px;margin: -1px;overflow: hidden;padding: 0;position: absolute;width: 1px;}#sk-container-id-1 div.sk-estimator {font-family: monospace;background-color: #f0f8ff;border: 1px dotted black;border-radius: 0.25em;box-sizing: border-box;margin-bottom: 0.5em;}#sk-container-id-1 div.sk-estimator:hover {background-color: #d4ebff;}#sk-container-id-1 div.sk-parallel-item::after {content: \"\";width: 100%;border-bottom: 1px solid gray;flex-grow: 1;}#sk-container-id-1 div.sk-label:hover label.sk-toggleable__label {background-color: #d4ebff;}#sk-container-id-1 div.sk-serial::before {content: \"\";position: absolute;border-left: 1px solid gray;box-sizing: border-box;top: 0;bottom: 0;left: 50%;z-index: 0;}#sk-container-id-1 div.sk-serial {display: flex;flex-direction: column;align-items: center;background-color: white;padding-right: 0.2em;padding-left: 0.2em;position: relative;}#sk-container-id-1 div.sk-item {position: relative;z-index: 1;}#sk-container-id-1 div.sk-parallel {display: flex;align-items: stretch;justify-content: center;background-color: white;position: relative;}#sk-container-id-1 div.sk-item::before, #sk-container-id-1 div.sk-parallel-item::before {content: \"\";position: absolute;border-left: 1px solid gray;box-sizing: border-box;top: 0;bottom: 0;left: 50%;z-index: -1;}#sk-container-id-1 div.sk-parallel-item {display: flex;flex-direction: column;z-index: 1;position: relative;background-color: white;}#sk-container-id-1 div.sk-parallel-item:first-child::after {align-self: flex-end;width: 50%;}#sk-container-id-1 div.sk-parallel-item:last-child::after {align-self: flex-start;width: 50%;}#sk-container-id-1 div.sk-parallel-item:only-child::after {width: 0;}#sk-container-id-1 div.sk-dashed-wrapped {border: 1px dashed gray;margin: 0 0.4em 0.5em 0.4em;box-sizing: border-box;padding-bottom: 0.4em;background-color: white;}#sk-container-id-1 div.sk-label label {font-family: monospace;font-weight: bold;display: inline-block;line-height: 1.2em;}#sk-container-id-1 div.sk-label-container {text-align: center;}#sk-container-id-1 div.sk-container {/* jupyter's `normalize.less` sets `[hidden] { display: none; }` but bootstrap.min.css set `[hidden] { display: none !important; }` so we also need the `!important` here to be able to override the default hidden behavior on the sphinx rendered scikit-learn.org. See: https://github.com/scikit-learn/scikit-learn/issues/21755 */display: inline-block !important;position: relative;}#sk-container-id-1 div.sk-text-repr-fallback {display: none;}</style><div id=\"sk-container-id-1\" class=\"sk-top-container\"><div class=\"sk-text-repr-fallback\"><pre>KNeighborsClassifier()</pre><b>In a Jupyter environment, please rerun this cell to show the HTML representation or trust the notebook. <br />On GitHub, the HTML representation is unable to render, please try loading this page with nbviewer.org.</b></div><div class=\"sk-container\" hidden><div class=\"sk-item\"><div class=\"sk-estimator sk-toggleable\"><input class=\"sk-toggleable__control sk-hidden--visually\" id=\"sk-estimator-id-1\" type=\"checkbox\" checked><label for=\"sk-estimator-id-1\" class=\"sk-toggleable__label sk-toggleable__label-arrow\">KNeighborsClassifier</label><div class=\"sk-toggleable__content\"><pre>KNeighborsClassifier()</pre></div></div></div></div></div>"
      ],
      "text/plain": [
       "KNeighborsClassifier()"
      ]
     },
     "execution_count": 110,
     "metadata": {},
     "output_type": "execute_result"
    }
   ],
   "source": [
    "from sklearn.neighbors import KNeighborsClassifier\n",
    "from sklearn.model_selection import cross_val_score\n",
    "import numpy as np\n",
    "\n",
    "for k in [1,2,3,4,5,6,7,8,9,10,12,13, 14, 15,16,17, 18, 19, 20,25,30,50]:\n",
    "  knn = KNeighborsClassifier(k)\n",
    "  knn.fit(X_train_scaled, y_smt)\n",
    "  train_score = knn.score(X_train_scaled, y_smt)\n",
    "  knn = KNeighborsClassifier(k)\n",
    "  cross_val_result = np.mean(cross_val_score(knn, X_train_scaled, y_smt, cv = 10))\n",
    "  print(f'K : {k}, training score : {train_score} and cross-val score : {cross_val_result}')\n",
    "\n",
    "\n",
    "KNeighborsClassifier()"
   ]
  },
  {
   "cell_type": "code",
   "execution_count": 111,
   "id": "35b05e1a",
   "metadata": {},
   "outputs": [
    {
     "data": {
      "text/plain": [
       "'Test data accuracy is : 0.8260148213693176, 0.5149552883132902 '"
      ]
     },
     "execution_count": 111,
     "metadata": {},
     "output_type": "execute_result"
    }
   ],
   "source": [
    "knn = KNeighborsClassifier(1)\n",
    "knn.fit(X_train_scaled, y_smt)\n",
    "f'Test data accuracy is : {knn.score(X_test_scaled, y_test)}, {f1_score(y_test, knn.predict(X_test_scaled))} '"
   ]
  },
  {
   "cell_type": "markdown",
   "id": "48961054",
   "metadata": {},
   "source": [
    "## Decision Tree"
   ]
  },
  {
   "cell_type": "code",
   "execution_count": 112,
   "id": "77852bfb",
   "metadata": {},
   "outputs": [
    {
     "name": "stdout",
     "output_type": "stream",
     "text": [
      "Depth : 1, training score : 0.7856296076760642 and cross-val score : 0.7855002171645278\n",
      "Depth : 2, training score : 0.8041158818953061 and cross-val score : 0.8040790697109458\n",
      "Depth : 3, training score : 0.8579631756381284 and cross-val score : 0.8572037581095288\n",
      "Depth : 4, training score : 0.8658726336457601 and cross-val score : 0.8654651784966149\n",
      "Depth : 5, training score : 0.8815989330567184 and cross-val score : 0.8798022646461845\n",
      "Depth : 6, training score : 0.8901011373319009 and cross-val score : 0.8863780950748978\n",
      "Depth : 7, training score : 0.8979365020560887 and cross-val score : 0.8954915559747489\n",
      "Depth : 8, training score : 0.9162190197458601 and cross-val score : 0.9094581413914355\n",
      "Depth : 9, training score : 0.928055421776016 and cross-val score : 0.9188309610393318\n",
      "Depth : 10, training score : 0.9376319786611343 and cross-val score : 0.9239620142903799\n",
      "Depth : 15, training score : 0.9777905382877042 and cross-val score : 0.9411701808844297\n",
      "Depth : 20, training score : 0.9970177453413848 and cross-val score : 0.9480238027969035\n",
      "Depth : 30, training score : 1.0 and cross-val score : 0.9480608981628409\n"
     ]
    }
   ],
   "source": [
    "from sklearn.tree import DecisionTreeClassifier\n",
    "from sklearn.model_selection import cross_val_score\n",
    "\n",
    "for depth in [1,2,3,4,5,6,7,8,9,10,15,20,30]:\n",
    "  dt = DecisionTreeClassifier(max_depth = depth)\n",
    "  dt.fit(X_train_scaled, y_smt)\n",
    "  train_score = dt.score(X_train_scaled, y_smt)\n",
    "  dt = DecisionTreeClassifier(max_depth = depth)\n",
    "  cross_val_result = np.mean(cross_val_score(dt, X_train_scaled, y_smt, cv = 10))\n",
    "  print(f'Depth : {depth}, training score : {train_score} and cross-val score : {cross_val_result}')"
   ]
  },
  {
   "cell_type": "code",
   "execution_count": 113,
   "id": "78fa3a4b",
   "metadata": {},
   "outputs": [
    {
     "data": {
      "text/plain": [
       "'Test data accuracy is : 0.8215905320207941, 0.5086810843740481 '"
      ]
     },
     "execution_count": 113,
     "metadata": {},
     "output_type": "execute_result"
    }
   ],
   "source": [
    "dt = DecisionTreeClassifier(max_depth = 30)\n",
    "dt.fit(X_train_scaled, y_smt)\n",
    "f'Test data accuracy is : {dt.score(X_test_scaled, y_test)}, {f1_score(y_test, dt.predict(X_test_scaled))} '"
   ]
  },
  {
   "cell_type": "code",
   "execution_count": 114,
   "id": "836290f9",
   "metadata": {},
   "outputs": [
    {
     "data": {
      "text/plain": [
       "'Test data accuracy is : 0.8192677801128194, 0.5299194476409667 '"
      ]
     },
     "execution_count": 114,
     "metadata": {},
     "output_type": "execute_result"
    }
   ],
   "source": [
    "from sklearn.ensemble import VotingClassifier\n",
    "\n",
    "model = VotingClassifier(estimators = [('logistic_regression', lr),('k-nn', knn),('decision-tree', dt)])\n",
    "model.fit(X_train_scaled, y_smt)\n",
    "f'Test data accuracy is : {model.score(X_test_scaled, y_test)}, {f1_score(y_test, model.predict(X_test_scaled))} '"
   ]
  },
  {
   "cell_type": "code",
   "execution_count": 115,
   "id": "30d2fb3c",
   "metadata": {},
   "outputs": [
    {
     "name": "stdout",
     "output_type": "stream",
     "text": [
      "Depth : 1, training score : 0.796002667358204 and cross-val score : 0.8088385654006295\n",
      "Depth : 2, training score : 0.8621494461527063 and cross-val score : 0.8539809425002269\n",
      "Depth : 3, training score : 0.8804134405216167 and cross-val score : 0.8743565029710261\n",
      "Depth : 4, training score : 0.8911940132626978 and cross-val score : 0.8868410511435674\n",
      "Depth : 5, training score : 0.8941762679213129 and cross-val score : 0.8956213331397187\n",
      "Depth : 6, training score : 0.9099581372948542 and cross-val score : 0.906475730242746\n",
      "Depth : 7, training score : 0.9176823620938762 and cross-val score : 0.9141444997464643\n",
      "Depth : 8, training score : 0.9287778312895936 and cross-val score : 0.9205906765356147\n",
      "Depth : 9, training score : 0.9361686363131182 and cross-val score : 0.9287593773797942\n",
      "Depth : 10, training score : 0.9455229133479051 and cross-val score : 0.936613239411934\n",
      "Depth : 12, training score : 0.9610825028711147 and cross-val score : 0.9478939089690493\n",
      "Depth : 15, training score : 0.9832919645834105 and cross-val score : 0.9613974799856244\n",
      "Depth : 20, training score : 0.9993146371281443 and cross-val score : 0.9677880394603285\n"
     ]
    }
   ],
   "source": [
    "from sklearn.ensemble import RandomForestClassifier\n",
    "\n",
    "for depth in [1,2,3,4,5,6,7,8,9,10,12,15,20]:\n",
    "  rf = RandomForestClassifier(max_depth = depth)\n",
    "  rf.fit(X_train_scaled, y_smt)\n",
    "  train_score = rf.score(X_train_scaled, y_smt)\n",
    "  cross_val_result = np.mean(cross_val_score(rf, X_train_scaled, y_smt, cv = 10))\n",
    "  print(f'Depth : {depth}, training score : {train_score} and cross-val score : {cross_val_result}')"
   ]
  },
  {
   "cell_type": "code",
   "execution_count": 124,
   "id": "6996a3c2",
   "metadata": {},
   "outputs": [
    {
     "data": {
      "text/plain": [
       "'Test data accuracy is : 0.8311027541201195, 0.5528550512445095 '"
      ]
     },
     "execution_count": 124,
     "metadata": {},
     "output_type": "execute_result"
    }
   ],
   "source": [
    "rf = RandomForestClassifier(max_depth = 20)\n",
    "rf.fit(X_train_scaled, y_smt)\n",
    "f'Test data accuracy is : {rf.score(X_test_scaled, y_test)}, {f1_score(y_test, rf.predict(X_test_scaled))} '"
   ]
  },
  {
   "cell_type": "code",
   "execution_count": 117,
   "id": "64242488",
   "metadata": {},
   "outputs": [
    {
     "data": {
      "text/plain": [
       "[('age', 0.013466567338068407),\n",
       " ('job', 0.03373780011961796),\n",
       " ('marital', 0.00046484696436105107),\n",
       " ('education_qual', 0.00627141706672067),\n",
       " ('call_type', 0.09299141181241687),\n",
       " ('day', 0.01755492476173868),\n",
       " ('mon', 0.12087436258978115),\n",
       " ('dur', 0.6266009585388748),\n",
       " ('num_calls', 0.053599173935653804),\n",
       " ('prev_outcome', 0.0344385368727666)]"
      ]
     },
     "execution_count": 117,
     "metadata": {},
     "output_type": "execute_result"
    }
   ],
   "source": [
    "list(zip(X.columns, rf.feature_importances_))"
   ]
  },
  {
   "cell_type": "code",
   "execution_count": 118,
   "id": "6f7ca155",
   "metadata": {},
   "outputs": [
    {
     "name": "stdout",
     "output_type": "stream",
     "text": [
      "Requirement already satisfied: xgboost in c:\\programdata\\anaconda3\\lib\\site-packages (1.7.6)\n",
      "Requirement already satisfied: scipy in c:\\programdata\\anaconda3\\lib\\site-packages (from xgboost) (1.6.2)\n",
      "Requirement already satisfied: numpy in c:\\programdata\\anaconda3\\lib\\site-packages (from xgboost) (1.20.1)\n",
      "Note: you may need to restart the kernel to use updated packages.\n"
     ]
    }
   ],
   "source": [
    "pip install xgboost"
   ]
  },
  {
   "cell_type": "code",
   "execution_count": 119,
   "id": "a58fbfc8",
   "metadata": {},
   "outputs": [
    {
     "name": "stdout",
     "output_type": "stream",
     "text": [
      "Learning Rate : 0.001, training score : 0.9021783425332494 and cross-val score : 0.8938799131286987\n",
      "Learning Rate : 0.002, training score : 0.9024191457044419 and cross-val score : 0.8996778182887738\n",
      "Learning Rate : 0.005, training score : 0.9051050272292817 and cross-val score : 0.9034009632648479\n",
      "Learning Rate : 0.01, training score : 0.9140888378468491 and cross-val score : 0.9107177265341015\n",
      "Learning Rate : 0.02, training score : 0.9239988145074649 and cross-val score : 0.9199607758795505\n",
      "Learning Rate : 0.03, training score : 0.9303708368836365 and cross-val score : 0.9265365617018672\n",
      "Learning Rate : 0.04, training score : 0.9370392323935836 and cross-val score : 0.9324455848279507\n",
      "Learning Rate : 0.05, training score : 0.9426888452561776 and cross-val score : 0.9376876839885201\n",
      "Learning Rate : 0.06, training score : 0.9458933797651243 and cross-val score : 0.9416146493172031\n",
      "Learning Rate : 0.07, training score : 0.9516541325528841 and cross-val score : 0.9446895501142919\n",
      "Learning Rate : 0.08, training score : 0.9529322416922906 and cross-val score : 0.9474124789895292\n",
      "Learning Rate : 0.09, training score : 0.9549698069869966 and cross-val score : 0.949024084091705\n",
      "Learning Rate : 0.1, training score : 0.9575445485866706 and cross-val score : 0.9502835937466223\n",
      "Learning Rate : 0.2, training score : 0.9699551735635165 and cross-val score : 0.9588784915571413\n",
      "Learning Rate : 0.5, training score : 0.9891082873337532 and cross-val score : 0.9687884888869338\n",
      "Learning Rate : 1, training score : 0.9983884710850961 and cross-val score : 0.9696961947518034\n"
     ]
    }
   ],
   "source": [
    "import xgboost as xgb\n",
    "\n",
    "for lr in [0.001, 0.002, 0.005, 0.01, 0.02, 0.03, 0.04, 0.05, 0.06, 0.07, 0.08, 0.09, 0.1, 0.2, 0.5, 1]:\n",
    "  xg = xgb.XGBClassifier(learning_rate=lr)\n",
    "  xg.fit(X_train_scaled, y_smt)\n",
    "  train_score = xg.score(X_train_scaled, y_smt)\n",
    "  cross_val_result = np.mean(cross_val_score(xg, X_train_scaled, y_smt, cv = 10))\n",
    "  print(f'Learning Rate : {lr}, training score : {train_score} and cross-val score : {cross_val_result}')"
   ]
  },
  {
   "cell_type": "code",
   "execution_count": 122,
   "id": "3a96d8f9",
   "metadata": {},
   "outputs": [
    {
     "data": {
      "text/plain": [
       "'Test data accuracy is : 0.8458135162039597, 0.5621859296482412 '"
      ]
     },
     "execution_count": 122,
     "metadata": {},
     "output_type": "execute_result"
    }
   ],
   "source": [
    "xg = xgb.XGBClassifier(learning_rate=1)\n",
    "xg.fit(X_train_scaled, y_smt)\n",
    "f'Test data accuracy is : {xg.score(X_test_scaled, y_test)}, {f1_score(y_test, xg.predict(X_test_scaled))} '"
   ]
  },
  {
   "cell_type": "code",
   "execution_count": 123,
   "id": "9ddca2d6",
   "metadata": {},
   "outputs": [
    {
     "data": {
      "text/plain": [
       "[('age', 0.030869257),\n",
       " ('job', 0.04444692),\n",
       " ('marital', 0.033535358),\n",
       " ('education_qual', 0.047164377),\n",
       " ('call_type', 0.31543422),\n",
       " ('day', 0.04314623),\n",
       " ('mon', 0.15629452),\n",
       " ('dur', 0.14170372),\n",
       " ('num_calls', 0.07620966),\n",
       " ('prev_outcome', 0.11119569)]"
      ]
     },
     "execution_count": 123,
     "metadata": {},
     "output_type": "execute_result"
    }
   ],
   "source": [
    "list(zip(X.columns, xg.feature_importances_))"
   ]
  },
  {
   "cell_type": "code",
   "execution_count": null,
   "id": "207f3938",
   "metadata": {},
   "outputs": [],
   "source": []
  }
 ],
 "metadata": {
  "kernelspec": {
   "display_name": "Python 3",
   "language": "python",
   "name": "python3"
  },
  "language_info": {
   "codemirror_mode": {
    "name": "ipython",
    "version": 3
   },
   "file_extension": ".py",
   "mimetype": "text/x-python",
   "name": "python",
   "nbconvert_exporter": "python",
   "pygments_lexer": "ipython3",
   "version": "3.8.8"
  }
 },
 "nbformat": 4,
 "nbformat_minor": 5
}
